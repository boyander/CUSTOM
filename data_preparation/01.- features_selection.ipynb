{
 "cells": [
  {
   "cell_type": "markdown",
   "id": "e46cc744",
   "metadata": {},
   "source": [
    "# Extract features from AudioSet for training"
   ]
  },
  {
   "cell_type": "markdown",
   "id": "7e78278c",
   "metadata": {},
   "source": [
    "## Load and filter classes\n",
    "The first thing we need to do is to select the sounds we're going to identify from the labels indexes csv file"
   ]
  },
  {
   "cell_type": "code",
   "execution_count": 1,
   "id": "e3a53370",
   "metadata": {
    "scrolled": false
   },
   "outputs": [
    {
     "name": "stdout",
     "output_type": "stream",
     "text": [
      "{53: 'Walk, footsteps', 68: 'Chatter', 71: 'Children playing', 74: 'Dog', 111: 'Bird', 308: 'Vehicle horn, car horn, honking', 327: 'Traffic noise, roadway noise', 334: 'Subway, metro, underground', 396: 'Siren', 420: 'Jackhammer'}\n"
     ]
    }
   ],
   "source": [
    "import pandas as pd\n",
    "import pickle\n",
    "\n",
    "classes_file = \"../dataset/class_labels_indices.csv\"\n",
    "selected_classes = [\"Vehicle horn, car horn, honking\", \"Children playing\", \"Dog\", \"Jackhammer\", \"Siren\", \n",
    "                    \"Traffic noise, roadway noise\", \"Subway, metro, underground\", \"Walk, footsteps\", \"Chatter\", \"Bird\"]\n",
    "df = pd.read_csv(classes_file)\n",
    "df.set_index(\"index\", inplace=True)\n",
    "selected_classes_indexes = df.index[df['display_name'].isin(selected_classes)].tolist()\n",
    "\n",
    "# Create dictionary with our classes\n",
    "selected_classes_dict = {}\n",
    "for i in selected_classes_indexes:\n",
    "    selected_classes_dict[i] = df.iloc[i]['display_name']\n",
    "\n",
    "print(selected_classes_dict)\n",
    "# Save for later use\n",
    "base_dir = \"./features/\"\n",
    "dump_filename = f\"{base_dir}classes_dict.pkl\"\n",
    "\n",
    "with open(dump_filename, \"wb\") as dump_file:\n",
    "    pickle.dump(selected_classes_dict, dump_file)"
   ]
  },
  {
   "cell_type": "markdown",
   "id": "c92d7e41",
   "metadata": {},
   "source": [
    "### Create an encoder for our labels"
   ]
  },
  {
   "cell_type": "code",
   "execution_count": 2,
   "id": "6047c573",
   "metadata": {},
   "outputs": [
    {
     "name": "stdout",
     "output_type": "stream",
     "text": [
      "[53, 68, 71, 74, 111, 308, 327, 334, 396, 420]\n"
     ]
    }
   ],
   "source": [
    "from sklearn.preprocessing import MultiLabelBinarizer\n",
    "\n",
    "mlb = MultiLabelBinarizer()\n",
    "mlb.fit([selected_classes_indexes])\n",
    "print(list(mlb.classes_))\n",
    "\n",
    "# Save mlb for our project\n",
    "base_dir = \"./features/\"\n",
    "\n",
    "dump_filename = f\"{base_dir}multiLabelBinarizer.pkl\"\n",
    "with open(dump_filename, \"wb\") as dump_file:\n",
    "    pickle.dump(mlb, dump_file)"
   ]
  },
  {
   "cell_type": "markdown",
   "id": "31620029",
   "metadata": {},
   "source": [
    "## Extract features from dataset\n",
    "Now, we need to build a function to extract features from Google Audioset, which are formatted in tensorflow"
   ]
  },
  {
   "cell_type": "code",
   "execution_count": 3,
   "id": "8e2404c3",
   "metadata": {
    "scrolled": true
   },
   "outputs": [],
   "source": [
    "import os\n",
    "import tensorflow as tf\n",
    "import numpy as np\n",
    "from sklearn.preprocessing import MultiLabelBinarizer\n",
    "\n",
    "def extract_features(dataset_dir, mlb):\n",
    "    X = []\n",
    "    y = []\n",
    "    recordset = os.listdir(dataset_dir)\n",
    "    for record in recordset:\n",
    "        raw_dataset = tf.data.TFRecordDataset(dataset_dir+record)    \n",
    "        for raw_record in raw_dataset.take(-1):\n",
    "            example = tf.train.Example()\n",
    "            example.ParseFromString(raw_record.numpy())\n",
    "\n",
    "            labels = example.features.feature['labels'].int64_list.value\n",
    "            # print(labels)\n",
    "\n",
    "            for label in labels:\n",
    "                if label in selected_classes_indexes:\n",
    "                    # video = example.features.feature['video_id'].bytes_list.value[0].decode(\"utf-8\")\n",
    "                    # start = example.features.feature['start_time_seconds'].float_list.value[0]\n",
    "                    # end = example.features.feature['end_time_seconds'].float_list.value[0]\n",
    "                    # print(f\"Video: {video}\")\n",
    "                    # print(f\"Duration: {end-start} seconds\")\n",
    "                    \n",
    "                    labels_detected = set(labels).intersection(set(selected_classes_indexes))\n",
    "                    # print(f\"Labels: \", labels_detected)\n",
    "                    \n",
    "                    example_seq = tf.train.SequenceExample()\n",
    "                    example_seq.ParseFromString(raw_record.numpy())\n",
    "                    \n",
    "                    try:\n",
    "                        i=0\n",
    "                        feats_list = example_seq.feature_lists.feature_list['audio_embedding']\n",
    "                        while True:\n",
    "                            hex_features = feats_list.feature[i].bytes_list.value[0].hex()\n",
    "                            features_array = [int(hex_features[k:k+2],16) for k in range(0,len(hex_features),2)]\n",
    "                            # for l in labels_detected:\n",
    "                                # If there's more than one of the selected labels in the video\n",
    "                            X.append(features_array)\n",
    "                            y.append(list(labels_detected))\n",
    "                            i += 1\n",
    "                    except IndexError as ie:\n",
    "                            #FeatureList does not have length, so we read until the end\n",
    "                            continue\n",
    "                            \n",
    "    X = np.array(X)\n",
    "    y = np.array(y, dtype=object)\n",
    "    \n",
    "    # Apply OneHotEncodig to ground truth\n",
    "    y = mlb.transform(y)\n",
    "\n",
    "    # We need to add at least one dimension to our X   \n",
    "    # X = X.reshape(X.shape[0], 128, 1)\n",
    "    return X,y"
   ]
  },
  {
   "cell_type": "markdown",
   "id": "e4af7113",
   "metadata": {},
   "source": [
    "### Extract training data"
   ]
  },
  {
   "cell_type": "code",
   "execution_count": 4,
   "id": "ed0f73f6",
   "metadata": {
    "scrolled": true
   },
   "outputs": [
    {
     "name": "stdout",
     "output_type": "stream",
     "text": [
      "(10697, 128) (10697, 10)\n"
     ]
    }
   ],
   "source": [
    "# Extract data for training\n",
    "X_train, y_train = extract_features(\"../dataset/audioset_v1_embeddings/bal_train/\", mlb)\n",
    "\n",
    "print(X_train.shape, y_train.shape)"
   ]
  },
  {
   "cell_type": "markdown",
   "id": "70ba3028",
   "metadata": {},
   "source": [
    "#### Check balance"
   ]
  },
  {
   "cell_type": "code",
   "execution_count": 5,
   "id": "2a0d45b2",
   "metadata": {
    "scrolled": true
   },
   "outputs": [
    {
     "data": {
      "text/plain": [
       "<AxesSubplot:xlabel='0'>"
      ]
     },
     "execution_count": 5,
     "metadata": {},
     "output_type": "execute_result"
    },
    {
     "data": {
      "image/png": "[encoded data removed]",
      "text/plain": [
       "<Figure size 432x288 with 1 Axes>"
      ]
     },
     "metadata": {
      "needs_background": "light"
     },
     "output_type": "display_data"
    }
   ],
   "source": [
    "sounds = [selected_classes_dict.get(mlb.classes_[y.argmax()]) for y in y_train]\n",
    "df = pd.DataFrame(sounds)\n",
    "df.value_counts().plot.bar()"
   ]
  },
  {
   "cell_type": "markdown",
   "id": "84787706",
   "metadata": {},
   "source": [
    "### Extract evaluation data"
   ]
  },
  {
   "cell_type": "code",
   "execution_count": 6,
   "id": "fd97d6d3",
   "metadata": {},
   "outputs": [
    {
     "name": "stdout",
     "output_type": "stream",
     "text": [
      "(10747, 128) (10747, 10)\n"
     ]
    }
   ],
   "source": [
    "# Extract also X and y for validation\n",
    "X_val, y_val = extract_features(\"../dataset/audioset_v1_embeddings/eval/\", mlb)\n",
    "print(X_val.shape, y_val.shape)"
   ]
  },
  {
   "cell_type": "markdown",
   "id": "c01ca842",
   "metadata": {},
   "source": [
    "#### Check balance"
   ]
  },
  {
   "cell_type": "code",
   "execution_count": 7,
   "id": "4d474fa0",
   "metadata": {},
   "outputs": [
    {
     "data": {
      "text/plain": [
       "<AxesSubplot:xlabel='0'>"
      ]
     },
     "execution_count": 7,
     "metadata": {},
     "output_type": "execute_result"
    },
    {
     "data": {
      "image/png": "[encoded data removed]",
      "text/plain": [
       "<Figure size 432x288 with 1 Axes>"
      ]
     },
     "metadata": {
      "needs_background": "light"
     },
     "output_type": "display_data"
    }
   ],
   "source": [
    "sounds = [selected_classes_dict.get(mlb.classes_[y.argmax()]) for y in y_val]\n",
    "df = pd.DataFrame(sounds)\n",
    "df.value_counts().plot.bar()"
   ]
  },
  {
   "cell_type": "markdown",
   "id": "ab6b014d",
   "metadata": {},
   "source": [
    "### Save results for later"
   ]
  },
  {
   "cell_type": "code",
   "execution_count": 8,
   "id": "b062bf51",
   "metadata": {},
   "outputs": [],
   "source": [
    "from pathlib import Path\n",
    "\n",
    "# Save training and evaluation sets\n",
    "Path(base_dir).mkdir(exist_ok=True)   \n",
    "\n",
    "dump_filename = f\"{base_dir}X_train.pkl\"\n",
    "with open(dump_filename, \"wb\") as dump_file:\n",
    "    pickle.dump(X_train, dump_file)\n",
    "    \n",
    "dump_filename = f\"{base_dir}y_train.pkl\"\n",
    "with open(dump_filename, \"wb\") as dump_file:\n",
    "    pickle.dump(y_train, dump_file)\n",
    "    \n",
    "dump_filename = f\"{base_dir}X_val.pkl\"\n",
    "with open(dump_filename, \"wb\") as dump_file:\n",
    "    pickle.dump(X_val, dump_file)\n",
    "    \n",
    "dump_filename = f\"{base_dir}y_val.pkl\"\n",
    "with open(dump_filename, \"wb\") as dump_file:\n",
    "    pickle.dump(y_val, dump_file)"
   ]
  }
 ],
 "metadata": {
  "kernelspec": {
   "display_name": "Python 3 (ipykernel)",
   "language": "python",
   "name": "python3"
  },
  "language_info": {
   "codemirror_mode": {
    "name": "ipython",
    "version": 3
   },
   "file_extension": ".py",
   "mimetype": "text/x-python",
   "name": "python",
   "nbconvert_exporter": "python",
   "pygments_lexer": "ipython3",
   "version": "3.10.4"
  }
 },
 "nbformat": 4,
 "nbformat_minor": 5
}
