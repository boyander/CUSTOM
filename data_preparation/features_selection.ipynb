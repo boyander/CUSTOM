{
 "cells": [
  {
   "cell_type": "markdown",
   "id": "7e78278c",
   "metadata": {},
   "source": [
    "## Load and filter classes\n",
    "The first thing we need to do is to select the sounds we're going to identify from the labels indexes csv file"
   ]
  },
  {
   "cell_type": "code",
   "execution_count": 1,
   "id": "e3a53370",
   "metadata": {
    "scrolled": false
   },
   "outputs": [
    {
     "name": "stdout",
     "output_type": "stream",
     "text": [
      "{53: 'Vehicle horn, car horn, honking', 68: 'Children playing', 71: 'Dog', 74: 'Jackhammer', 111: 'Siren', 308: 'Traffic noise, roadway noise', 327: 'Subway, metro, underground', 334: 'Walk, footsteps', 396: 'Chatter', 420: 'Bird'}\n"
     ]
    }
   ],
   "source": [
    "import pandas as pd\n",
    "\n",
    "classes_file = \"../dataset/class_labels_indices.csv\"\n",
    "selected_classes = [\"Vehicle horn, car horn, honking\", \"Children playing\", \"Dog\", \"Jackhammer\", \"Siren\", \n",
    "                    \"Traffic noise, roadway noise\", \"Subway, metro, underground\", \"Walk, footsteps\", \"Chatter\", \"Bird\"]\n",
    "df = pd.read_csv(classes_file)\n",
    "df.set_index(\"index\", inplace=True)\n",
    "selected_classes_indexes = df.index[df['display_name'].isin(selected_classes)].tolist()\n",
    "selected_classes_dict = dict(zip(selected_classes_indexes, selected_classes))\n",
    "print(selected_classes_dict)"
   ]
  },
  {
   "cell_type": "markdown",
   "id": "c92d7e41",
   "metadata": {},
   "source": [
    "### Create an encoder for our labels"
   ]
  },
  {
   "cell_type": "code",
   "execution_count": 2,
   "id": "6047c573",
   "metadata": {},
   "outputs": [
    {
     "name": "stdout",
     "output_type": "stream",
     "text": [
      "[53, 68, 71, 74, 111, 308, 327, 334, 396, 420]\n"
     ]
    }
   ],
   "source": [
    "import pickle\n",
    "from sklearn.preprocessing import MultiLabelBinarizer\n",
    "\n",
    "mlb = MultiLabelBinarizer()\n",
    "mlb.fit([selected_classes_indexes])\n",
    "print(list(mlb.classes_))\n",
    "\n",
    "# Save mlb for our project\n",
    "dump_filename = \"multiLabelBinarizer.pkl\"\n",
    "with open(dump_filename, \"wb\") as dump_file:\n",
    "    pickle.dump(mlb, dump_file)"
   ]
  },
  {
   "cell_type": "markdown",
   "id": "31620029",
   "metadata": {},
   "source": [
    "## Extract features from dataset\n",
    "Now, we need to build a function to extract features from Google Audioset, which are formatted in tensorflow"
   ]
  },
  {
   "cell_type": "code",
   "execution_count": 3,
   "id": "8e2404c3",
   "metadata": {
    "scrolled": true
   },
   "outputs": [],
   "source": [
    "import os\n",
    "import tensorflow as tf\n",
    "import numpy as np\n",
    "from sklearn.preprocessing import MultiLabelBinarizer\n",
    "\n",
    "def extract_features(dataset_dir, mlb):\n",
    "    X = []\n",
    "    y = []\n",
    "    recordset = os.listdir(dataset_dir)\n",
    "    for record in recordset:\n",
    "        raw_dataset = tf.data.TFRecordDataset(dataset_dir+record)    \n",
    "        for raw_record in raw_dataset.take(1):\n",
    "            example = tf.train.Example()\n",
    "            example.ParseFromString(raw_record.numpy())\n",
    "\n",
    "            labels = example.features.feature['labels'].int64_list.value\n",
    "            # print(labels)\n",
    "\n",
    "            for label in labels:\n",
    "                if label in selected_classes_indexes:\n",
    "                    # video = example.features.feature['video_id'].bytes_list.value[0].decode(\"utf-8\")\n",
    "                    # start = example.features.feature['start_time_seconds'].float_list.value[0]\n",
    "                    # end = example.features.feature['end_time_seconds'].float_list.value[0]\n",
    "                    # print(f\"Video: {video}\")\n",
    "                    # print(f\"Duration: {end-start} seconds\")\n",
    "                    \n",
    "                    labels_detected = set(labels).intersection(set(selected_classes_indexes))\n",
    "                    # print(f\"Labels: \", labels_detected)\n",
    "                    \n",
    "                    example_seq = tf.train.SequenceExample()\n",
    "                    example_seq.ParseFromString(raw_record.numpy())\n",
    "                    \n",
    "                    try:\n",
    "                        i=0\n",
    "                        feats_list = example_seq.feature_lists.feature_list['audio_embedding']\n",
    "                        while True:\n",
    "                            hex_features = feats_list.feature[i].bytes_list.value[0].hex()\n",
    "                            features_array = [int(hex_features[k:k+2],16) for k in range(0,len(hex_features),2)]\n",
    "                            # for l in labels_detected:\n",
    "                                # If there's more than one of the selected labels in the video\n",
    "                            X.append(features_array)\n",
    "                            y.append(list(labels_detected))\n",
    "                            i += 1\n",
    "                    except IndexError as ie:\n",
    "                            #FeatureList does not have length, so we read until the end\n",
    "                            continue\n",
    "                            \n",
    "    X = np.array(X)\n",
    "    y = np.array(y, dtype=object)\n",
    "    \n",
    "    # Apply OneHotEncodig to ground truth\n",
    "    y = mlb.transform(y)\n",
    "\n",
    "    # We need to add at least one dimension to our X   \n",
    "    X = X.reshape(X.shape[0], 128, 1)\n",
    "    return X,y"
   ]
  },
  {
   "cell_type": "code",
   "execution_count": 4,
   "id": "ed0f73f6",
   "metadata": {
    "scrolled": false
   },
   "outputs": [
    {
     "name": "stdout",
     "output_type": "stream",
     "text": [
      "(1978, 128, 1) (1978, 10)\n"
     ]
    }
   ],
   "source": [
    "# Extract data for training\n",
    "X_train, y_train = extract_features(\"../dataset/audioset_v1_embeddings/bal_train/\", mlb)\n",
    "\n",
    "print(X_train.shape, y_train.shape)"
   ]
  },
  {
   "cell_type": "code",
   "execution_count": 6,
   "id": "fd97d6d3",
   "metadata": {},
   "outputs": [
    {
     "name": "stdout",
     "output_type": "stream",
     "text": [
      "(2233, 128, 1) (2233, 10)\n"
     ]
    }
   ],
   "source": [
    "# Extract also X and y for validation\n",
    "X_val, y_val = extract_features(\"../dataset/audioset_v1_embeddings/eval/\", mlb)\n",
    "print(X_val.shape, y_val.shape)"
   ]
  },
  {
   "cell_type": "markdown",
   "id": "24a23d2c",
   "metadata": {},
   "source": [
    "# Define neural network for classification\n",
    "We need a neural network with 128 inputs and 10 outputs (one for each audio class). As each audio could be multilabelled, it is not recommended to use softmax as output layer but sigmoid (https://glassboxmedicine.com/2019/05/26/classification-sigmoid-vs-softmax/)"
   ]
  },
  {
   "cell_type": "code",
   "execution_count": 7,
   "id": "4a445820",
   "metadata": {
    "scrolled": true
   },
   "outputs": [
    {
     "name": "stdout",
     "output_type": "stream",
     "text": [
      "Model: \"sequential\"\n",
      "_________________________________________________________________\n",
      " Layer (type)                Output Shape              Param #   \n",
      "=================================================================\n",
      " input (Conv1D)              (None, 128, 128)          512       \n",
      "                                                                 \n",
      " maxpool1 (MaxPooling1D)     (None, 64, 128)           0         \n",
      "                                                                 \n",
      " conv1D_1 (Conv1D)           (None, 64, 128)           49280     \n",
      "                                                                 \n",
      " maxpool2 (MaxPooling1D)     (None, 32, 128)           0         \n",
      "                                                                 \n",
      " conv1D_2 (Conv1D)           (None, 32, 64)            24640     \n",
      "                                                                 \n",
      " maxpool3 (MaxPooling1D)     (None, 16, 64)            0         \n",
      "                                                                 \n",
      " flatten (Flatten)           (None, 1024)              0         \n",
      "                                                                 \n",
      " dense (Dense)               (None, 1024)              1049600   \n",
      "                                                                 \n",
      " output (Dense)              (None, 10)                10250     \n",
      "                                                                 \n",
      "=================================================================\n",
      "Total params: 1,134,282\n",
      "Trainable params: 1,134,282\n",
      "Non-trainable params: 0\n",
      "_________________________________________________________________\n"
     ]
    }
   ],
   "source": [
    "from tensorflow.keras.models import Sequential, Model\n",
    "from tensorflow.keras.layers import Conv1D, MaxPool1D, Flatten, Dense\n",
    "from tensorflow.keras.optimizers import Adam\n",
    "from sklearn.preprocessing import LabelEncoder, MultiLabelBinarizer\n",
    "\n",
    "model = Sequential([\n",
    "    #Conv1D(32, 3, padding=\"same\", input_shape=X_train[0].shape, activation=\"relu\", name=\"input\"),\n",
    "    Conv1D(128, 3, padding=\"same\", input_shape=X_train[0].shape, activation=\"relu\", name=\"input\"),\n",
    "    MaxPool1D(pool_size=2, name=\"maxpool1\"),\n",
    "    \n",
    "    #Conv1D(64, 3, padding=\"same\", activation=\"relu\", name=\"conv1D_1\"),\n",
    "    Conv1D(128, 3, padding=\"same\", activation=\"relu\", name=\"conv1D_1\"),\n",
    "    MaxPool1D(pool_size=2, name=\"maxpool2\"),\n",
    "    \n",
    "    #Conv1D(128, 3, padding=\"same\", activation=\"relu\", name=\"conv1D_2\"),\n",
    "    Conv1D(64, 3, padding=\"same\", activation=\"relu\", name=\"conv1D_2\"),\n",
    "    MaxPool1D(pool_size=2, name=\"maxpool3\"),\n",
    "    \n",
    "    # Conv1D(256, 3, padding=\"same\", activation=\"relu\", name=\"conv1D_3\"),\n",
    "    # MaxPool1D(pool_size=2, name=\"maxpool4\"),\n",
    "      \n",
    "    Flatten(name=\"flatten\"),\n",
    "    Dense(1024, activation=\"relu\", name=\"dense\"),\n",
    "    \n",
    "    Dense(len(selected_classes_indexes), activation=\"sigmoid\", name=\"output\")\n",
    "])\n",
    "\n",
    "opt = Adam(learning_rate=0.0001)\n",
    "\n",
    "model.summary()"
   ]
  },
  {
   "cell_type": "code",
   "execution_count": 8,
   "id": "a760ccd7",
   "metadata": {},
   "outputs": [
    {
     "data": {
      "image/png": "[encoded data removed]",
      "text/plain": [
       "<IPython.core.display.Image object>"
      ]
     },
     "execution_count": 8,
     "metadata": {},
     "output_type": "execute_result"
    }
   ],
   "source": [
    "from tensorflow.keras.utils import plot_model\n",
    "plot_model(model, show_shapes=True)"
   ]
  },
  {
   "cell_type": "code",
   "execution_count": 9,
   "id": "fbc7df1f",
   "metadata": {
    "scrolled": true
   },
   "outputs": [
    {
     "name": "stdout",
     "output_type": "stream",
     "text": [
      "Epoch 1/20\n",
      "62/62 [==============================] - 10s 41ms/step - loss: 3.7690 - accuracy: 0.2669 - val_loss: 2.4564 - val_accuracy: 0.3202\n",
      "Epoch 2/20\n",
      "62/62 [==============================] - 1s 15ms/step - loss: 1.7542 - accuracy: 0.4808 - val_loss: 2.3448 - val_accuracy: 0.3945\n",
      "Epoch 3/20\n",
      "62/62 [==============================] - 1s 16ms/step - loss: 1.2275 - accuracy: 0.6006 - val_loss: 1.9282 - val_accuracy: 0.4366\n",
      "Epoch 4/20\n",
      "62/62 [==============================] - 1s 15ms/step - loss: 0.8609 - accuracy: 0.7169 - val_loss: 1.9235 - val_accuracy: 0.4666\n",
      "Epoch 5/20\n",
      "62/62 [==============================] - 1s 16ms/step - loss: 0.6967 - accuracy: 0.7609 - val_loss: 1.9391 - val_accuracy: 0.4729\n",
      "Epoch 6/20\n",
      "62/62 [==============================] - 1s 18ms/step - loss: 0.5360 - accuracy: 0.8215 - val_loss: 2.1926 - val_accuracy: 0.4433\n",
      "Epoch 7/20\n",
      "62/62 [==============================] - 1s 16ms/step - loss: 0.4040 - accuracy: 0.8701 - val_loss: 2.0301 - val_accuracy: 0.4729\n",
      "Epoch 8/20\n",
      "62/62 [==============================] - 1s 15ms/step - loss: 0.3225 - accuracy: 0.9070 - val_loss: 2.1680 - val_accuracy: 0.4787\n",
      "Epoch 9/20\n",
      "62/62 [==============================] - 1s 15ms/step - loss: 0.2514 - accuracy: 0.9333 - val_loss: 2.2179 - val_accuracy: 0.4707\n",
      "Epoch 10/20\n",
      "62/62 [==============================] - 1s 14ms/step - loss: 0.2016 - accuracy: 0.9474 - val_loss: 2.2009 - val_accuracy: 0.4716\n",
      "Epoch 11/20\n",
      "62/62 [==============================] - 1s 15ms/step - loss: 0.1704 - accuracy: 0.9611 - val_loss: 2.2670 - val_accuracy: 0.4814\n",
      "Epoch 12/20\n",
      "62/62 [==============================] - 1s 16ms/step - loss: 0.1178 - accuracy: 0.9828 - val_loss: 2.3414 - val_accuracy: 0.4734\n",
      "Epoch 13/20\n",
      "62/62 [==============================] - 1s 15ms/step - loss: 0.1002 - accuracy: 0.9818 - val_loss: 2.3845 - val_accuracy: 0.4819\n",
      "Epoch 14/20\n",
      "62/62 [==============================] - 1s 14ms/step - loss: 0.0762 - accuracy: 0.9894 - val_loss: 2.4521 - val_accuracy: 0.4716\n",
      "Epoch 15/20\n",
      "62/62 [==============================] - 1s 14ms/step - loss: 0.0610 - accuracy: 0.9944 - val_loss: 2.4846 - val_accuracy: 0.4841\n",
      "Epoch 16/20\n",
      "62/62 [==============================] - 1s 16ms/step - loss: 0.0467 - accuracy: 0.9965 - val_loss: 2.6360 - val_accuracy: 0.4837\n",
      "Epoch 17/20\n",
      "62/62 [==============================] - 1s 17ms/step - loss: 0.0406 - accuracy: 0.9960 - val_loss: 2.7044 - val_accuracy: 0.4814\n",
      "Epoch 18/20\n",
      "62/62 [==============================] - 1s 16ms/step - loss: 0.0314 - accuracy: 0.9975 - val_loss: 2.8494 - val_accuracy: 0.4769\n",
      "Epoch 19/20\n",
      "62/62 [==============================] - 1s 15ms/step - loss: 0.0272 - accuracy: 0.9965 - val_loss: 2.6845 - val_accuracy: 0.4859\n",
      "Epoch 20/20\n",
      "62/62 [==============================] - 1s 15ms/step - loss: 0.0252 - accuracy: 0.9970 - val_loss: 2.7548 - val_accuracy: 0.4935\n"
     ]
    }
   ],
   "source": [
    "# Compile\n",
    "model.compile(\n",
    "    loss=\"categorical_crossentropy\",\n",
    "    optimizer=opt,\n",
    "    metrics=[\"accuracy\"]\n",
    ")\n",
    "\n",
    "history = model.fit(\n",
    "    X_train,\n",
    "    y_train,\n",
    "    batch_size=32,\n",
    "    epochs=20,\n",
    "    validation_data=(X_val, y_val),\n",
    ")"
   ]
  },
  {
   "cell_type": "code",
   "execution_count": 10,
   "id": "9667a590",
   "metadata": {},
   "outputs": [],
   "source": [
    "model.save(\"pokemon_model_trained.h5\")"
   ]
  },
  {
   "cell_type": "code",
   "execution_count": 11,
   "id": "e6f5ed51",
   "metadata": {},
   "outputs": [
    {
     "data": {
      "image/png": "[encoded data removed]",
      "text/plain": [
       "<Figure size 432x288 with 1 Axes>"
      ]
     },
     "metadata": {
      "needs_background": "light"
     },
     "output_type": "display_data"
    }
   ],
   "source": [
    "from matplotlib import pyplot as plt\n",
    "\n",
    "plt.plot(history.history['accuracy'])\n",
    "plt.plot(history.history['val_accuracy'])\n",
    "plt.title('model accuracy')\n",
    "plt.ylabel('accuracy')\n",
    "plt.xlabel('epoch')\n",
    "plt.legend(['train', 'val'], loc='upper left')\n",
    "plt.show()"
   ]
  },
  {
   "cell_type": "code",
   "execution_count": 12,
   "id": "d0fdc193",
   "metadata": {
    "scrolled": true
   },
   "outputs": [
    {
     "data": {
      "image/png": "[encoded data removed]",
      "text/plain": [
       "<Figure size 432x288 with 1 Axes>"
      ]
     },
     "metadata": {
      "needs_background": "light"
     },
     "output_type": "display_data"
    }
   ],
   "source": [
    "plt.plot(history.history['loss'])\n",
    "plt.plot(history.history['val_loss'])\n",
    "plt.title('model loss')\n",
    "plt.ylabel('loss')\n",
    "plt.xlabel('epoch')\n",
    "plt.legend(['loss', 'val'], loc='upper left')\n",
    "plt.show()"
   ]
  },
  {
   "cell_type": "markdown",
   "id": "0888d9c0",
   "metadata": {},
   "source": [
    "### A different Neural network from Keras\n",
    "https://keras.io/examples/audio/uk_ireland_accent_recognition/"
   ]
  },
  {
   "cell_type": "code",
   "execution_count": 13,
   "id": "86b58bb8",
   "metadata": {
    "scrolled": true
   },
   "outputs": [
    {
     "name": "stdout",
     "output_type": "stream",
     "text": [
      "Model: \"sequential_1\"\n",
      "_________________________________________________________________\n",
      " Layer (type)                Output Shape              Param #   \n",
      "=================================================================\n",
      " normalization (Normalizatio  (None, 128, 1)           3         \n",
      " n)                                                              \n",
      "                                                                 \n",
      " conv1d (Conv1D)             (None, 126, 32)           128       \n",
      "                                                                 \n",
      " conv1d_1 (Conv1D)           (None, 124, 64)           6208      \n",
      "                                                                 \n",
      " max_pooling1d (MaxPooling1D  (None, 62, 64)           0         \n",
      " )                                                               \n",
      "                                                                 \n",
      " dropout (Dropout)           (None, 62, 64)            0         \n",
      "                                                                 \n",
      " flatten (Flatten)           (None, 3968)              0         \n",
      "                                                                 \n",
      " dense (Dense)               (None, 128)               508032    \n",
      "                                                                 \n",
      " dropout_1 (Dropout)         (None, 128)               0         \n",
      "                                                                 \n",
      " dense_1 (Dense)             (None, 10)                1290      \n",
      "                                                                 \n",
      "=================================================================\n",
      "Total params: 515,661\n",
      "Trainable params: 515,658\n",
      "Non-trainable params: 3\n",
      "_________________________________________________________________\n"
     ]
    }
   ],
   "source": [
    "from tensorflow.keras import Input\n",
    "from tensorflow.keras.layers import Resizing, Normalization, Conv2D, MaxPooling2D, Dropout\n",
    "\n",
    "# Instantiate the `tf.keras.layers.Normalization` layer.\n",
    "norm_layer = Normalization(input_shape=X_train[0].shape)\n",
    "# Fit the state of the layer to the spectrograms\n",
    "# with `Normalization.adapt`.\n",
    "norm_layer.adapt(data=X_train)\n",
    "\n",
    "model2 = Sequential([\n",
    "    # Downsample the input.\n",
    "    # Resizing(32, 32),\n",
    "    # Normalize.\n",
    "    norm_layer,\n",
    "    Conv1D(32, 3, activation='relu'),\n",
    "    Conv1D(64, 3, activation='relu'),\n",
    "    MaxPool1D(),\n",
    "    Dropout(0.25),\n",
    "    Flatten(),\n",
    "    Dense(128, activation='relu'),\n",
    "    Dropout(0.5),\n",
    "    Dense(len(selected_classes_indexes)),\n",
    "])\n",
    "\n",
    "model2.summary()"
   ]
  },
  {
   "cell_type": "code",
   "execution_count": 14,
   "id": "3b09547c",
   "metadata": {
    "scrolled": true
   },
   "outputs": [
    {
     "name": "stdout",
     "output_type": "stream",
     "text": [
      "Epoch 1/20\n",
      "62/62 [==============================] - 6s 60ms/step - loss: 7.7973 - accuracy: 0.1269 - val_loss: 9.1217 - val_accuracy: 0.2073\n",
      "Epoch 2/20\n",
      "62/62 [==============================] - 3s 41ms/step - loss: 7.8187 - accuracy: 0.1431 - val_loss: 8.1683 - val_accuracy: 0.2073\n",
      "Epoch 3/20\n",
      "62/62 [==============================] - 2s 39ms/step - loss: 8.0416 - accuracy: 0.1411 - val_loss: 8.6301 - val_accuracy: 0.2073\n",
      "Epoch 4/20\n",
      "62/62 [==============================] - 3s 41ms/step - loss: 7.3100 - accuracy: 0.1411 - val_loss: 5.5799 - val_accuracy: 0.2073\n",
      "Epoch 5/20\n",
      "62/62 [==============================] - 3s 46ms/step - loss: 7.6021 - accuracy: 0.1345 - val_loss: 10.9076 - val_accuracy: 0.2073\n",
      "Epoch 6/20\n",
      "62/62 [==============================] - 3s 48ms/step - loss: 7.8108 - accuracy: 0.1198 - val_loss: 7.8857 - val_accuracy: 0.2073\n",
      "Epoch 7/20\n",
      "62/62 [==============================] - 3s 47ms/step - loss: 7.3016 - accuracy: 0.1335 - val_loss: 8.4793 - val_accuracy: 0.2073\n",
      "Epoch 8/20\n",
      "62/62 [==============================] - 3s 47ms/step - loss: 7.1836 - accuracy: 0.1481 - val_loss: 7.3848 - val_accuracy: 0.2073\n",
      "Epoch 9/20\n",
      "62/62 [==============================] - 3s 46ms/step - loss: 7.1812 - accuracy: 0.1593 - val_loss: 8.0410 - val_accuracy: 0.2073\n",
      "Epoch 10/20\n",
      "62/62 [==============================] - 3s 44ms/step - loss: 7.4617 - accuracy: 0.1593 - val_loss: 7.8180 - val_accuracy: 0.2073\n",
      "Epoch 11/20\n",
      "62/62 [==============================] - 3s 46ms/step - loss: 6.8042 - accuracy: 0.1451 - val_loss: 6.4221 - val_accuracy: 0.2073\n",
      "Epoch 12/20\n",
      "62/62 [==============================] - 3s 46ms/step - loss: 7.1200 - accuracy: 0.1507 - val_loss: 8.5026 - val_accuracy: 0.2073\n",
      "Epoch 13/20\n",
      "62/62 [==============================] - 3s 46ms/step - loss: 7.5865 - accuracy: 0.1421 - val_loss: 9.8734 - val_accuracy: 0.2073\n",
      "Epoch 14/20\n",
      "62/62 [==============================] - 3s 45ms/step - loss: 7.5918 - accuracy: 0.1335 - val_loss: 10.1084 - val_accuracy: 0.2073\n",
      "Epoch 15/20\n",
      "62/62 [==============================] - 3s 48ms/step - loss: 7.3183 - accuracy: 0.1304 - val_loss: 6.5445 - val_accuracy: 0.2073\n",
      "Epoch 16/20\n",
      "62/62 [==============================] - 3s 45ms/step - loss: 6.8689 - accuracy: 0.1431 - val_loss: 5.7040 - val_accuracy: 0.2073\n",
      "Epoch 17/20\n",
      "62/62 [==============================] - 3s 45ms/step - loss: 7.0230 - accuracy: 0.1360 - val_loss: 8.4813 - val_accuracy: 0.2073\n",
      "Epoch 18/20\n",
      "62/62 [==============================] - 3s 45ms/step - loss: 7.2744 - accuracy: 0.1299 - val_loss: 9.8341 - val_accuracy: 0.2073\n",
      "Epoch 19/20\n",
      "62/62 [==============================] - 3s 44ms/step - loss: 6.8558 - accuracy: 0.1168 - val_loss: 6.3779 - val_accuracy: 0.2073\n",
      "Epoch 20/20\n",
      "62/62 [==============================] - 3s 47ms/step - loss: 7.0061 - accuracy: 0.1198 - val_loss: 9.8948 - val_accuracy: 0.2073\n"
     ]
    }
   ],
   "source": [
    "# Compile\n",
    "model2.compile(\n",
    "    loss=\"categorical_crossentropy\",\n",
    "    optimizer=opt,\n",
    "    metrics=[\"accuracy\"]\n",
    ")\n",
    "\n",
    "history2 = model2.fit(\n",
    "    X_train,\n",
    "    y_train,\n",
    "    batch_size=32,\n",
    "    epochs=20,\n",
    "    validation_data=(X_val, y_val),\n",
    ")"
   ]
  },
  {
   "cell_type": "markdown",
   "id": "3578e6dd",
   "metadata": {},
   "source": [
    "### Esta red no funciona bien, se descarta"
   ]
  },
  {
   "cell_type": "code",
   "execution_count": 15,
   "id": "21479c5b",
   "metadata": {
    "scrolled": false
   },
   "outputs": [
    {
     "name": "stdout",
     "output_type": "stream",
     "text": [
      "Model: \"model\"\n",
      "__________________________________________________________________________________________________\n",
      " Layer (type)                   Output Shape         Param #     Connected to                     \n",
      "==================================================================================================\n",
      " input (InputLayer)             [(None, 128, 1)]     0           []                               \n",
      "                                                                                                  \n",
      " conv1d_3 (Conv1D)              (None, 128, 16)      64          ['input[0][0]']                  \n",
      "                                                                                                  \n",
      " activation (Activation)        (None, 128, 16)      0           ['conv1d_3[0][0]']               \n",
      "                                                                                                  \n",
      " conv1d_4 (Conv1D)              (None, 128, 16)      784         ['activation[0][0]']             \n",
      "                                                                                                  \n",
      " conv1d_2 (Conv1D)              (None, 128, 16)      32          ['input[0][0]']                  \n",
      "                                                                                                  \n",
      " add (Add)                      (None, 128, 16)      0           ['conv1d_4[0][0]',               \n",
      "                                                                  'conv1d_2[0][0]']               \n",
      "                                                                                                  \n",
      " activation_1 (Activation)      (None, 128, 16)      0           ['add[0][0]']                    \n",
      "                                                                                                  \n",
      " max_pooling1d_1 (MaxPooling1D)  (None, 64, 16)      0           ['activation_1[0][0]']           \n",
      "                                                                                                  \n",
      " conv1d_6 (Conv1D)              (None, 64, 32)       1568        ['max_pooling1d_1[0][0]']        \n",
      "                                                                                                  \n",
      " activation_2 (Activation)      (None, 64, 32)       0           ['conv1d_6[0][0]']               \n",
      "                                                                                                  \n",
      " conv1d_7 (Conv1D)              (None, 64, 32)       3104        ['activation_2[0][0]']           \n",
      "                                                                                                  \n",
      " conv1d_5 (Conv1D)              (None, 64, 32)       544         ['max_pooling1d_1[0][0]']        \n",
      "                                                                                                  \n",
      " add_1 (Add)                    (None, 64, 32)       0           ['conv1d_7[0][0]',               \n",
      "                                                                  'conv1d_5[0][0]']               \n",
      "                                                                                                  \n",
      " activation_3 (Activation)      (None, 64, 32)       0           ['add_1[0][0]']                  \n",
      "                                                                                                  \n",
      " max_pooling1d_2 (MaxPooling1D)  (None, 32, 32)      0           ['activation_3[0][0]']           \n",
      "                                                                                                  \n",
      " conv1d_9 (Conv1D)              (None, 32, 64)       6208        ['max_pooling1d_2[0][0]']        \n",
      "                                                                                                  \n",
      " activation_4 (Activation)      (None, 32, 64)       0           ['conv1d_9[0][0]']               \n",
      "                                                                                                  \n",
      " conv1d_10 (Conv1D)             (None, 32, 64)       12352       ['activation_4[0][0]']           \n",
      "                                                                                                  \n",
      " activation_5 (Activation)      (None, 32, 64)       0           ['conv1d_10[0][0]']              \n",
      "                                                                                                  \n",
      " conv1d_11 (Conv1D)             (None, 32, 64)       12352       ['activation_5[0][0]']           \n",
      "                                                                                                  \n",
      " conv1d_8 (Conv1D)              (None, 32, 64)       2112        ['max_pooling1d_2[0][0]']        \n",
      "                                                                                                  \n",
      " add_2 (Add)                    (None, 32, 64)       0           ['conv1d_11[0][0]',              \n",
      "                                                                  'conv1d_8[0][0]']               \n",
      "                                                                                                  \n",
      " activation_6 (Activation)      (None, 32, 64)       0           ['add_2[0][0]']                  \n",
      "                                                                                                  \n",
      " max_pooling1d_3 (MaxPooling1D)  (None, 16, 64)      0           ['activation_6[0][0]']           \n",
      "                                                                                                  \n",
      " conv1d_13 (Conv1D)             (None, 16, 128)      24704       ['max_pooling1d_3[0][0]']        \n",
      "                                                                                                  \n",
      " activation_7 (Activation)      (None, 16, 128)      0           ['conv1d_13[0][0]']              \n",
      "                                                                                                  \n",
      " conv1d_14 (Conv1D)             (None, 16, 128)      49280       ['activation_7[0][0]']           \n",
      "                                                                                                  \n",
      " activation_8 (Activation)      (None, 16, 128)      0           ['conv1d_14[0][0]']              \n",
      "                                                                                                  \n",
      " conv1d_15 (Conv1D)             (None, 16, 128)      49280       ['activation_8[0][0]']           \n",
      "                                                                                                  \n",
      " conv1d_12 (Conv1D)             (None, 16, 128)      8320        ['max_pooling1d_3[0][0]']        \n",
      "                                                                                                  \n",
      " add_3 (Add)                    (None, 16, 128)      0           ['conv1d_15[0][0]',              \n",
      "                                                                  'conv1d_12[0][0]']              \n",
      "                                                                                                  \n",
      " activation_9 (Activation)      (None, 16, 128)      0           ['add_3[0][0]']                  \n",
      "                                                                                                  \n",
      " max_pooling1d_4 (MaxPooling1D)  (None, 8, 128)      0           ['activation_9[0][0]']           \n",
      "                                                                                                  \n",
      " conv1d_17 (Conv1D)             (None, 8, 128)       49280       ['max_pooling1d_4[0][0]']        \n",
      "                                                                                                  \n",
      " activation_10 (Activation)     (None, 8, 128)       0           ['conv1d_17[0][0]']              \n",
      "                                                                                                  \n",
      " conv1d_18 (Conv1D)             (None, 8, 128)       49280       ['activation_10[0][0]']          \n",
      "                                                                                                  \n",
      " activation_11 (Activation)     (None, 8, 128)       0           ['conv1d_18[0][0]']              \n",
      "                                                                                                  \n",
      " conv1d_19 (Conv1D)             (None, 8, 128)       49280       ['activation_11[0][0]']          \n",
      "                                                                                                  \n"
     ]
    },
    {
     "name": "stdout",
     "output_type": "stream",
     "text": [
      " conv1d_16 (Conv1D)             (None, 8, 128)       16512       ['max_pooling1d_4[0][0]']        \n",
      "                                                                                                  \n",
      " add_4 (Add)                    (None, 8, 128)       0           ['conv1d_19[0][0]',              \n",
      "                                                                  'conv1d_16[0][0]']              \n",
      "                                                                                                  \n",
      " activation_12 (Activation)     (None, 8, 128)       0           ['add_4[0][0]']                  \n",
      "                                                                                                  \n",
      " max_pooling1d_5 (MaxPooling1D)  (None, 4, 128)      0           ['activation_12[0][0]']          \n",
      "                                                                                                  \n",
      " average_pooling1d (AveragePool  (None, 1, 128)      0           ['max_pooling1d_5[0][0]']        \n",
      " ing1D)                                                                                           \n",
      "                                                                                                  \n",
      " flatten_1 (Flatten)            (None, 128)          0           ['average_pooling1d[0][0]']      \n",
      "                                                                                                  \n",
      " dense_2 (Dense)                (None, 256)          33024       ['flatten_1[0][0]']              \n",
      "                                                                                                  \n",
      " dense_3 (Dense)                (None, 128)          32896       ['dense_2[0][0]']                \n",
      "                                                                                                  \n",
      " output (Dense)                 (None, 10)           1290        ['dense_3[0][0]']                \n",
      "                                                                                                  \n",
      "==================================================================================================\n",
      "Total params: 402,266\n",
      "Trainable params: 402,266\n",
      "Non-trainable params: 0\n",
      "__________________________________________________________________________________________________\n"
     ]
    }
   ],
   "source": [
    "import keras\n",
    "\n",
    "def residual_block(x, filters, conv_num=3, activation=\"relu\"):\n",
    "    # Shortcut\n",
    "    s = keras.layers.Conv1D(filters, 1, padding=\"same\")(x)\n",
    "    for i in range(conv_num - 1):\n",
    "        x = keras.layers.Conv1D(filters, 3, padding=\"same\")(x)\n",
    "        x = keras.layers.Activation(activation)(x)\n",
    "    x = keras.layers.Conv1D(filters, 3, padding=\"same\")(x)\n",
    "    x = keras.layers.Add()([x, s])\n",
    "    x = keras.layers.Activation(activation)(x)\n",
    "    return keras.layers.MaxPool1D(pool_size=2, strides=2)(x)\n",
    "\n",
    "\n",
    "def build_model(input_shape, num_classes):\n",
    "    inputs = keras.layers.Input(shape=input_shape, name=\"input\")\n",
    "\n",
    "    x = residual_block(inputs, 16, 2)\n",
    "    x = residual_block(x, 32, 2)\n",
    "    x = residual_block(x, 64, 3)\n",
    "    x = residual_block(x, 128, 3)\n",
    "    x = residual_block(x, 128, 3)\n",
    "\n",
    "    x = keras.layers.AveragePooling1D(pool_size=3, strides=3)(x)\n",
    "    x = keras.layers.Flatten()(x)\n",
    "    x = keras.layers.Dense(256, activation=\"relu\")(x)\n",
    "    x = keras.layers.Dense(128, activation=\"relu\")(x)\n",
    "\n",
    "    outputs = keras.layers.Dense(num_classes, activation=\"softmax\", name=\"output\")(x)\n",
    "\n",
    "    return keras.models.Model(inputs=inputs, outputs=outputs)\n",
    "\n",
    "\n",
    "model2 = build_model(X_train[0].shape, len(selected_classes_indexes))\n",
    "\n",
    "model2.summary()"
   ]
  },
  {
   "cell_type": "code",
   "execution_count": 16,
   "id": "ea2f5ec4",
   "metadata": {
    "scrolled": true
   },
   "outputs": [
    {
     "name": "stdout",
     "output_type": "stream",
     "text": [
      "Epoch 1/20\n",
      "62/62 [==============================] - 17s 156ms/step - loss: 4.0481 - accuracy: 0.2321 - val_loss: 2.1936 - val_accuracy: 0.2947\n",
      "Epoch 2/20\n",
      "62/62 [==============================] - 7s 105ms/step - loss: 1.8764 - accuracy: 0.3615 - val_loss: 2.0205 - val_accuracy: 0.2974\n",
      "Epoch 3/20\n",
      "62/62 [==============================] - 7s 106ms/step - loss: 1.6471 - accuracy: 0.4530 - val_loss: 1.8599 - val_accuracy: 0.3945\n",
      "Epoch 4/20\n",
      "62/62 [==============================] - 7s 109ms/step - loss: 1.4431 - accuracy: 0.5152 - val_loss: 1.8021 - val_accuracy: 0.3914\n",
      "Epoch 5/20\n",
      "62/62 [==============================] - 5s 81ms/step - loss: 1.2697 - accuracy: 0.5637 - val_loss: 1.8059 - val_accuracy: 0.3932\n",
      "Epoch 6/20\n",
      "62/62 [==============================] - 5s 77ms/step - loss: 1.1903 - accuracy: 0.5961 - val_loss: 1.6192 - val_accuracy: 0.4622\n",
      "Epoch 7/20\n",
      "62/62 [==============================] - 6s 99ms/step - loss: 1.0776 - accuracy: 0.6239 - val_loss: 1.6073 - val_accuracy: 0.4765\n",
      "Epoch 8/20\n",
      "62/62 [==============================] - 6s 102ms/step - loss: 0.9987 - accuracy: 0.6598 - val_loss: 1.5674 - val_accuracy: 0.4837\n",
      "Epoch 9/20\n",
      "62/62 [==============================] - 6s 103ms/step - loss: 0.9009 - accuracy: 0.6977 - val_loss: 1.6006 - val_accuracy: 0.4684\n",
      "Epoch 10/20\n",
      "62/62 [==============================] - 6s 105ms/step - loss: 0.8581 - accuracy: 0.7002 - val_loss: 1.7763 - val_accuracy: 0.4335\n",
      "Epoch 11/20\n",
      "62/62 [==============================] - 6s 104ms/step - loss: 0.7883 - accuracy: 0.7401 - val_loss: 1.7937 - val_accuracy: 0.4326\n",
      "Epoch 12/20\n",
      "62/62 [==============================] - 7s 107ms/step - loss: 0.7119 - accuracy: 0.7568 - val_loss: 1.7536 - val_accuracy: 0.4478\n",
      "Epoch 13/20\n",
      "62/62 [==============================] - 7s 106ms/step - loss: 0.6679 - accuracy: 0.7765 - val_loss: 1.8282 - val_accuracy: 0.4492\n",
      "Epoch 14/20\n",
      "62/62 [==============================] - 7s 112ms/step - loss: 0.6675 - accuracy: 0.7710 - val_loss: 1.6746 - val_accuracy: 0.4756\n",
      "Epoch 15/20\n",
      "62/62 [==============================] - 7s 112ms/step - loss: 0.6074 - accuracy: 0.7897 - val_loss: 1.6505 - val_accuracy: 0.4872\n",
      "Epoch 16/20\n",
      "62/62 [==============================] - 8s 122ms/step - loss: 0.5284 - accuracy: 0.8296 - val_loss: 1.7144 - val_accuracy: 0.4957\n",
      "Epoch 17/20\n",
      "62/62 [==============================] - 7s 110ms/step - loss: 0.4815 - accuracy: 0.8473 - val_loss: 1.8962 - val_accuracy: 0.4689\n",
      "Epoch 18/20\n",
      "62/62 [==============================] - 7s 107ms/step - loss: 0.4967 - accuracy: 0.8372 - val_loss: 1.7332 - val_accuracy: 0.4881\n",
      "Epoch 19/20\n",
      "62/62 [==============================] - 7s 107ms/step - loss: 0.4035 - accuracy: 0.8797 - val_loss: 1.8204 - val_accuracy: 0.4801\n",
      "Epoch 20/20\n",
      "62/62 [==============================] - 6s 103ms/step - loss: 0.3704 - accuracy: 0.8827 - val_loss: 2.0354 - val_accuracy: 0.4698\n"
     ]
    }
   ],
   "source": [
    "# Compile\n",
    "model2.compile(\n",
    "    loss=\"categorical_crossentropy\",\n",
    "    optimizer=opt,\n",
    "    metrics=[\"accuracy\"]\n",
    ")\n",
    "\n",
    "history2 = model2.fit(\n",
    "    X_train,\n",
    "    y_train,\n",
    "    batch_size=32,\n",
    "    epochs=20,\n",
    "    validation_data=(X_val, y_val),\n",
    ")"
   ]
  },
  {
   "cell_type": "code",
   "execution_count": 17,
   "id": "85eaecb0",
   "metadata": {
    "scrolled": true
   },
   "outputs": [
    {
     "data": {
      "image/png": "[encoded data removed]",
      "text/plain": [
       "<Figure size 432x288 with 1 Axes>"
      ]
     },
     "metadata": {
      "needs_background": "light"
     },
     "output_type": "display_data"
    }
   ],
   "source": [
    "from matplotlib import pyplot as plt\n",
    "\n",
    "plt.plot(history2.history['accuracy'])\n",
    "plt.plot(history2.history['val_accuracy'])\n",
    "plt.title('model accuracy')\n",
    "plt.ylabel('accuracy')\n",
    "plt.xlabel('epoch')\n",
    "plt.legend(['train', 'val'], loc='upper left')\n",
    "plt.show()"
   ]
  },
  {
   "cell_type": "code",
   "execution_count": 18,
   "id": "0a57b280",
   "metadata": {
    "scrolled": true
   },
   "outputs": [
    {
     "name": "stdout",
     "output_type": "stream",
     "text": [
      "Model: \"sound_recognition\"\n",
      "_________________________________________________________________\n",
      " Layer (type)                Output Shape              Param #   \n",
      "=================================================================\n",
      " embedding (InputLayer)      [(None, 128, 1)]          0         \n",
      "                                                                 \n",
      " dense_1 (Dense)             (None, 128, 256)          512       \n",
      "                                                                 \n",
      " dropout_1 (Dropout)         (None, 128, 256)          0         \n",
      "                                                                 \n",
      " dense_2 (Dense)             (None, 128, 384)          98688     \n",
      "                                                                 \n",
      " dropout_2 (Dropout)         (None, 128, 384)          0         \n",
      "                                                                 \n",
      " dense_3 (Dense)             (None, 128, 192)          73920     \n",
      "                                                                 \n",
      " dropout_3 (Dropout)         (None, 128, 192)          0         \n",
      "                                                                 \n",
      " dense_4 (Dense)             (None, 128, 384)          74112     \n",
      "                                                                 \n",
      " dropout_4 (Dropout)         (None, 128, 384)          0         \n",
      "                                                                 \n",
      " flatten (Flatten)           (None, 49152)             0         \n",
      "                                                                 \n",
      " ouput (Dense)               (None, 10)                491530    \n",
      "                                                                 \n",
      "=================================================================\n",
      "Total params: 738,762\n",
      "Trainable params: 738,762\n",
      "Non-trainable params: 0\n",
      "_________________________________________________________________\n"
     ]
    }
   ],
   "source": [
    "keras.backend.clear_session()\n",
    "\n",
    "\n",
    "def build_and_compile_model():\n",
    "    inputs = keras.layers.Input(X_train[0].shape, name=\"embedding\")\n",
    "\n",
    "    x = keras.layers.Dense(256, activation=\"relu\", name=\"dense_1\")(inputs)\n",
    "    x = keras.layers.Dropout(0.15, name=\"dropout_1\")(x)\n",
    "\n",
    "    x = keras.layers.Dense(384, activation=\"relu\", name=\"dense_2\")(x)\n",
    "    x = keras.layers.Dropout(0.2, name=\"dropout_2\")(x)\n",
    "\n",
    "    x = keras.layers.Dense(192, activation=\"relu\", name=\"dense_3\")(x)\n",
    "    x = keras.layers.Dropout(0.25, name=\"dropout_3\")(x)\n",
    "\n",
    "    x = keras.layers.Dense(384, activation=\"relu\", name=\"dense_4\")(x)\n",
    "    x = keras.layers.Dropout(0.2, name=\"dropout_4\")(x)\n",
    "    x = keras.layers.Flatten()(x)\n",
    "\n",
    "    outputs = keras.layers.Dense(len(selected_classes_indexes), activation=\"sigmoid\", name=\"ouput\")(x)\n",
    "\n",
    "    model = keras.Model(inputs=inputs, outputs=outputs, name=\"sound_recognition\")\n",
    "\n",
    "    model.compile(\n",
    "        optimizer=Adam(learning_rate=1.9644e-5),\n",
    "        loss=keras.losses.CategoricalCrossentropy(),\n",
    "        metrics=[\"accuracy\", keras.metrics.AUC(name=\"auc\")],\n",
    "    )\n",
    "\n",
    "    return model\n",
    "\n",
    "\n",
    "model3 = build_and_compile_model()\n",
    "model3.summary()"
   ]
  },
  {
   "cell_type": "code",
   "execution_count": 19,
   "id": "d2cfcb80",
   "metadata": {
    "scrolled": false
   },
   "outputs": [
    {
     "name": "stdout",
     "output_type": "stream",
     "text": [
      "Epoch 1/20\n",
      "62/62 [==============================] - 11s 121ms/step - loss: 6.7115 - accuracy: 0.1916 - auc: 0.6365 - val_loss: 2.6739 - val_accuracy: 0.3417 - val_auc: 0.7572\n",
      "Epoch 2/20\n",
      "62/62 [==============================] - 5s 85ms/step - loss: 4.0834 - accuracy: 0.3488 - auc: 0.7397 - val_loss: 2.1496 - val_accuracy: 0.4469 - val_auc: 0.8008\n",
      "Epoch 3/20\n",
      "62/62 [==============================] - 5s 85ms/step - loss: 3.0486 - accuracy: 0.4383 - auc: 0.8019 - val_loss: 1.9337 - val_accuracy: 0.4783 - val_auc: 0.8308\n",
      "Epoch 4/20\n",
      "62/62 [==============================] - 5s 89ms/step - loss: 2.5662 - accuracy: 0.4995 - auc: 0.8325 - val_loss: 1.7184 - val_accuracy: 0.4962 - val_auc: 0.8470\n",
      "Epoch 5/20\n",
      "62/62 [==============================] - 5s 89ms/step - loss: 2.2855 - accuracy: 0.5030 - auc: 0.8478 - val_loss: 1.7113 - val_accuracy: 0.5119 - val_auc: 0.8453\n",
      "Epoch 6/20\n",
      "62/62 [==============================] - 6s 91ms/step - loss: 2.1652 - accuracy: 0.5344 - auc: 0.8558 - val_loss: 1.5261 - val_accuracy: 0.5258 - val_auc: 0.8653\n",
      "Epoch 7/20\n",
      "62/62 [==============================] - 5s 84ms/step - loss: 1.8573 - accuracy: 0.5758 - auc: 0.8751 - val_loss: 1.5598 - val_accuracy: 0.5110 - val_auc: 0.8569\n",
      "Epoch 8/20\n",
      "62/62 [==============================] - 5s 83ms/step - loss: 1.7205 - accuracy: 0.5789 - auc: 0.8815 - val_loss: 1.4919 - val_accuracy: 0.5307 - val_auc: 0.8618\n",
      "Epoch 9/20\n",
      "62/62 [==============================] - 5s 83ms/step - loss: 1.5803 - accuracy: 0.5950 - auc: 0.8866 - val_loss: 1.4406 - val_accuracy: 0.5244 - val_auc: 0.8665\n",
      "Epoch 10/20\n",
      "62/62 [==============================] - 6s 91ms/step - loss: 1.6298 - accuracy: 0.5935 - auc: 0.8868 - val_loss: 1.4359 - val_accuracy: 0.5231 - val_auc: 0.8688\n",
      "Epoch 11/20\n",
      "62/62 [==============================] - 5s 75ms/step - loss: 1.4617 - accuracy: 0.5976 - auc: 0.8953 - val_loss: 1.4517 - val_accuracy: 0.5356 - val_auc: 0.8631\n",
      "Epoch 12/20\n",
      "62/62 [==============================] - 5s 75ms/step - loss: 1.4098 - accuracy: 0.6132 - auc: 0.9006 - val_loss: 1.4183 - val_accuracy: 0.5316 - val_auc: 0.8691\n",
      "Epoch 13/20\n",
      "62/62 [==============================] - 5s 86ms/step - loss: 1.3242 - accuracy: 0.6259 - auc: 0.9060 - val_loss: 1.4291 - val_accuracy: 0.5235 - val_auc: 0.8685\n",
      "Epoch 14/20\n",
      "62/62 [==============================] - 5s 83ms/step - loss: 1.2428 - accuracy: 0.6365 - auc: 0.9110 - val_loss: 1.4242 - val_accuracy: 0.5217 - val_auc: 0.8698\n",
      "Epoch 15/20\n",
      "62/62 [==============================] - 5s 87ms/step - loss: 1.2589 - accuracy: 0.6304 - auc: 0.9116 - val_loss: 1.4294 - val_accuracy: 0.5213 - val_auc: 0.8694\n",
      "Epoch 16/20\n",
      "62/62 [==============================] - 5s 81ms/step - loss: 1.2037 - accuracy: 0.6340 - auc: 0.9116 - val_loss: 1.4594 - val_accuracy: 0.5208 - val_auc: 0.8621\n",
      "Epoch 17/20\n",
      "62/62 [==============================] - 5s 86ms/step - loss: 1.1859 - accuracy: 0.6416 - auc: 0.9166 - val_loss: 1.4551 - val_accuracy: 0.5226 - val_auc: 0.8639\n",
      "Epoch 18/20\n",
      "62/62 [==============================] - 5s 77ms/step - loss: 1.1473 - accuracy: 0.6411 - auc: 0.9177 - val_loss: 1.4611 - val_accuracy: 0.5137 - val_auc: 0.8640\n",
      "Epoch 19/20\n",
      "62/62 [==============================] - 10s 170ms/step - loss: 1.1388 - accuracy: 0.6441 - auc: 0.9163 - val_loss: 1.4429 - val_accuracy: 0.5253 - val_auc: 0.8672\n",
      "Epoch 20/20\n",
      "62/62 [==============================] - 5s 86ms/step - loss: 1.0487 - accuracy: 0.6764 - auc: 0.9246 - val_loss: 1.4691 - val_accuracy: 0.5123 - val_auc: 0.8622\n"
     ]
    }
   ],
   "source": [
    "history3 = model3.fit(\n",
    "    X_train,\n",
    "    y_train,\n",
    "    batch_size=32,\n",
    "    epochs=20,\n",
    "    validation_data=(X_val, y_val),\n",
    ")"
   ]
  },
  {
   "cell_type": "code",
   "execution_count": 20,
   "id": "30840879",
   "metadata": {},
   "outputs": [],
   "source": [
    "model3.save(\"Keras_audio.h5\")"
   ]
  },
  {
   "cell_type": "code",
   "execution_count": 21,
   "id": "cae63891",
   "metadata": {
    "scrolled": true
   },
   "outputs": [
    {
     "data": {
      "image/png": "[encoded data removed]",
      "text/plain": [
       "<Figure size 432x288 with 1 Axes>"
      ]
     },
     "metadata": {
      "needs_background": "light"
     },
     "output_type": "display_data"
    }
   ],
   "source": [
    "plt.plot(history3.history['accuracy'])\n",
    "plt.plot(history3.history['val_accuracy'])\n",
    "plt.title('model accuracy')\n",
    "plt.ylabel('accuracy')\n",
    "plt.xlabel('epoch')\n",
    "plt.legend(['train', 'val'], loc='upper left')\n",
    "plt.show()"
   ]
  },
  {
   "cell_type": "markdown",
   "id": "ac0de5a0",
   "metadata": {},
   "source": [
    "import keras_tuner as kt\n",
    "from tensorflow import keras\n",
    "\n",
    "tuner = kt.RandomSearch(\n",
    "    model3,\n",
    "    objective='val_loss',\n",
    "    max_trials=5)\n",
    "\n",
    "tuner.search(X_train, y_train, epochs=10, validation_data=(X_val, y_val))\n",
    "best_model = tuner.get_best_models()[0]"
   ]
  },
  {
   "cell_type": "code",
   "execution_count": 22,
   "id": "9ffdf6e1",
   "metadata": {
    "scrolled": true
   },
   "outputs": [
    {
     "name": "stdout",
     "output_type": "stream",
     "text": [
      "(1, 128, 1)\n"
     ]
    }
   ],
   "source": [
    "x = X_val[23].reshape((1,128,1))\n",
    "print(x.shape)"
   ]
  },
  {
   "cell_type": "code",
   "execution_count": 23,
   "id": "a8612b7c",
   "metadata": {},
   "outputs": [],
   "source": [
    "new_model = tf.keras.models.load_model(\"keras_audio.h5\")"
   ]
  },
  {
   "cell_type": "code",
   "execution_count": 24,
   "id": "82dc9fa5",
   "metadata": {},
   "outputs": [],
   "source": [
    "y = new_model(x)"
   ]
  },
  {
   "cell_type": "code",
   "execution_count": 25,
   "id": "275a316a",
   "metadata": {},
   "outputs": [
    {
     "data": {
      "text/plain": [
       "<tf.Tensor: shape=(1, 10), dtype=float32, numpy=\n",
       "array([[0.30642974, 0.26031238, 0.0606748 , 0.57713926, 0.11113375,\n",
       "        0.4492974 , 0.7008902 , 0.17415234, 0.8981737 , 0.12313665]],\n",
       "      dtype=float32)>"
      ]
     },
     "execution_count": 25,
     "metadata": {},
     "output_type": "execute_result"
    }
   ],
   "source": [
    "y"
   ]
  },
  {
   "cell_type": "code",
   "execution_count": 26,
   "id": "bd468ced",
   "metadata": {
    "scrolled": true
   },
   "outputs": [
    {
     "data": {
      "text/plain": [
       "8"
      ]
     },
     "execution_count": 26,
     "metadata": {},
     "output_type": "execute_result"
    }
   ],
   "source": [
    "np.argmax(y)"
   ]
  },
  {
   "cell_type": "code",
   "execution_count": null,
   "id": "e95408c3",
   "metadata": {},
   "outputs": [],
   "source": []
  },
  {
   "cell_type": "code",
   "execution_count": 27,
   "id": "96601b2f",
   "metadata": {},
   "outputs": [],
   "source": [
    "sol = np.vectorize(lambda x: 1 if x > 0.30 else 0)(y)"
   ]
  },
  {
   "cell_type": "code",
   "execution_count": 28,
   "id": "9e770786",
   "metadata": {
    "scrolled": true
   },
   "outputs": [
    {
     "data": {
      "text/plain": [
       "[['Vehicle horn, car horn, honking',\n",
       "  'Jackhammer',\n",
       "  'Traffic noise, roadway noise',\n",
       "  'Subway, metro, underground',\n",
       "  'Chatter']]"
      ]
     },
     "execution_count": 28,
     "metadata": {},
     "output_type": "execute_result"
    }
   ],
   "source": [
    "[[selected_classes_dict.get(x) for x in tup] for tup in mlb.inverse_transform(sol)]"
   ]
  },
  {
   "cell_type": "code",
   "execution_count": 29,
   "id": "bc0da3a0",
   "metadata": {},
   "outputs": [
    {
     "data": {
      "text/plain": [
       "[['Siren']]"
      ]
     },
     "execution_count": 29,
     "metadata": {},
     "output_type": "execute_result"
    }
   ],
   "source": [
    "[[selected_classes_dict.get(x) for x in tup] for tup in mlb.inverse_transform(y_train[9].reshape((1,10)))]"
   ]
  },
  {
   "cell_type": "code",
   "execution_count": 30,
   "id": "248a347c",
   "metadata": {
    "scrolled": true
   },
   "outputs": [
    {
     "data": {
      "text/plain": [
       "(10,)"
      ]
     },
     "execution_count": 30,
     "metadata": {},
     "output_type": "execute_result"
    }
   ],
   "source": [
    "y_train[9].shape"
   ]
  },
  {
   "cell_type": "code",
   "execution_count": 31,
   "id": "064f008f",
   "metadata": {},
   "outputs": [
    {
     "data": {
      "text/plain": [
       "(1, 10)"
      ]
     },
     "execution_count": 31,
     "metadata": {},
     "output_type": "execute_result"
    }
   ],
   "source": [
    "sol.shape"
   ]
  }
 ],
 "metadata": {
  "kernelspec": {
   "display_name": "Python 3 (ipykernel)",
   "language": "python",
   "name": "python3"
  },
  "language_info": {
   "codemirror_mode": {
    "name": "ipython",
    "version": 3
   },
   "file_extension": ".py",
   "mimetype": "text/x-python",
   "name": "python",
   "nbconvert_exporter": "python",
   "pygments_lexer": "ipython3",
   "version": "3.10.4"
  }
 },
 "nbformat": 4,
 "nbformat_minor": 5
}
