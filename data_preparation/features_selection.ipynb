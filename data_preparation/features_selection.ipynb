{
 "cells": [
  {
   "cell_type": "markdown",
   "id": "7e78278c",
   "metadata": {},
   "source": [
    "## Load and filter classes"
   ]
  },
  {
   "cell_type": "code",
   "execution_count": 1,
   "id": "e3a53370",
   "metadata": {},
   "outputs": [
    {
     "name": "stdout",
     "output_type": "stream",
     "text": [
      "[53, 68, 71, 74, 111, 308, 327, 334, 396, 420]\n"
     ]
    }
   ],
   "source": [
    "import pandas as pd\n",
    "\n",
    "classes_file = \"../dataset/class_labels_indices.csv\"\n",
    "selected_classes = [\"Vehicle horn, car horn, honking\", \"Children playing\", \"Dog\", \"Jackhammer\", \"Siren\", \n",
    "                    \"Traffic noise, roadway noise\", \"Subway, metro, underground\", \"Walk, footsteps\", \"Chatter\", \"Bird\"]\n",
    "df = pd.read_csv(classes_file)\n",
    "df.set_index(\"index\", inplace=True)\n",
    "selected_classes_indexes = df.index[df['display_name'].isin(selected_classes)].tolist()\n",
    "print(selected_classes_indexes)"
   ]
  },
  {
   "cell_type": "code",
   "execution_count": 4,
   "id": "8e2404c3",
   "metadata": {
    "scrolled": true
   },
   "outputs": [],
   "source": [
    "import os\n",
    "import tensorflow as tf\n",
    "import numpy as np\n",
    "from sklearn.preprocessing import MultiLabelBinarizer\n",
    "\n",
    "def extract_features(dataset_dir):\n",
    "    X = []\n",
    "    y = []\n",
    "    recordset = os.listdir(dataset_dir)\n",
    "    for record in recordset:\n",
    "        raw_dataset = tf.data.TFRecordDataset(dataset_dir+record)    \n",
    "        for raw_record in raw_dataset.take(1):\n",
    "            example = tf.train.Example()\n",
    "            example.ParseFromString(raw_record.numpy())\n",
    "\n",
    "            labels = example.features.feature['labels'].int64_list.value\n",
    "            # print(labels)\n",
    "\n",
    "            for label in labels:\n",
    "                if label in selected_classes_indexes:\n",
    "                    # video = example.features.feature['video_id'].bytes_list.value[0].decode(\"utf-8\")\n",
    "                    # start = example.features.feature['start_time_seconds'].float_list.value[0]\n",
    "                    # end = example.features.feature['end_time_seconds'].float_list.value[0]\n",
    "                    # print(f\"Video: {video}\")\n",
    "                    # print(f\"Duration: {end-start} seconds\")\n",
    "                    \n",
    "                    labels_detected = set(labels).intersection(set(selected_classes_indexes))\n",
    "                    # print(f\"Labels: \", labels_detected)\n",
    "                    \n",
    "                    example_seq = tf.train.SequenceExample()\n",
    "                    example_seq.ParseFromString(raw_record.numpy())\n",
    "                    \n",
    "                    try:\n",
    "                        i=0\n",
    "                        feats_list = example_seq.feature_lists.feature_list['audio_embedding']\n",
    "                        while True:\n",
    "                            hex_features = feats_list.feature[i].bytes_list.value[0].hex()\n",
    "                            features_array = [int(hex_features[k:k+2],16) for k in range(0,len(hex_features),2)]\n",
    "                            # for l in labels_detected:\n",
    "                                # If there's more than one of the selected labels in the video\n",
    "                            X.append(features_array)\n",
    "                            y.append(list(labels_detected))\n",
    "                            i += 1\n",
    "                    except IndexError as ie:\n",
    "                            #FeatureList does not have length, so we read until the end\n",
    "                            continue\n",
    "                            \n",
    "    X = np.array(X)/255\n",
    "    y = np.array(y, dtype=object)\n",
    "    \n",
    "    # Apply OneHotEncodig to ground truth\n",
    "    mlb = MultiLabelBinarizer()\n",
    "    y = mlb.fit_transform(y)\n",
    "\n",
    "    # We need to add at least one dimension to our X   \n",
    "    X = X.reshape(X.shape[0], 128, 1)\n",
    "    return X,y"
   ]
  },
  {
   "cell_type": "code",
   "execution_count": 5,
   "id": "ed0f73f6",
   "metadata": {},
   "outputs": [
    {
     "name": "stdout",
     "output_type": "stream",
     "text": [
      "(1978, 128, 1) (1978, 10)\n"
     ]
    }
   ],
   "source": [
    "# Extract data for training\n",
    "X_train, y_train = extract_features(\"../dataset/audioset_v1_embeddings/bal_train/\")\n",
    "\n",
    "print(X_train.shape, y_train.shape)"
   ]
  },
  {
   "cell_type": "code",
   "execution_count": 6,
   "id": "fd97d6d3",
   "metadata": {},
   "outputs": [
    {
     "name": "stdout",
     "output_type": "stream",
     "text": [
      "(2233, 128, 1) (2233, 10)\n"
     ]
    },
    {
     "name": "stderr",
     "output_type": "stream",
     "text": [
      "C:\\Users\\jm250119\\AppData\\Local\\Temp\\ipykernel_10968\\3849986614.py:49: VisibleDeprecationWarning: Creating an ndarray from ragged nested sequences (which is a list-or-tuple of lists-or-tuples-or ndarrays with different lengths or shapes) is deprecated. If you meant to do this, you must specify 'dtype=object' when creating the ndarray.\n",
      "  y = np.array(y)\n"
     ]
    }
   ],
   "source": [
    "# Extract also X and y for validation\n",
    "X_val, y_val = extract_features(\"../dataset/audioset_v1_embeddings/eval/\")\n",
    "print(X_val.shape, y_val.shape)"
   ]
  },
  {
   "cell_type": "markdown",
   "id": "24a23d2c",
   "metadata": {},
   "source": [
    "# Define neural network for classification\n",
    "We need a neural network with 128 inputs and 10 outputs (one for each audio class). As each audio could be multilabelled, it is not recommended to use softmax as output layer but sigmoid (https://glassboxmedicine.com/2019/05/26/classification-sigmoid-vs-softmax/)"
   ]
  },
  {
   "cell_type": "code",
   "execution_count": 7,
   "id": "4a445820",
   "metadata": {
    "scrolled": true
   },
   "outputs": [
    {
     "name": "stdout",
     "output_type": "stream",
     "text": [
      "Model: \"sequential\"\n",
      "_________________________________________________________________\n",
      " Layer (type)                Output Shape              Param #   \n",
      "=================================================================\n",
      " input (Conv1D)              (None, 128, 128)          512       \n",
      "                                                                 \n",
      " maxpool1 (MaxPooling1D)     (None, 64, 128)           0         \n",
      "                                                                 \n",
      " conv1D_1 (Conv1D)           (None, 64, 128)           49280     \n",
      "                                                                 \n",
      " maxpool2 (MaxPooling1D)     (None, 32, 128)           0         \n",
      "                                                                 \n",
      " conv1D_2 (Conv1D)           (None, 32, 64)            24640     \n",
      "                                                                 \n",
      " maxpool3 (MaxPooling1D)     (None, 16, 64)            0         \n",
      "                                                                 \n",
      " flatten (Flatten)           (None, 1024)              0         \n",
      "                                                                 \n",
      " dense (Dense)               (None, 1024)              1049600   \n",
      "                                                                 \n",
      " output (Dense)              (None, 10)                10250     \n",
      "                                                                 \n",
      "=================================================================\n",
      "Total params: 1,134,282\n",
      "Trainable params: 1,134,282\n",
      "Non-trainable params: 0\n",
      "_________________________________________________________________\n"
     ]
    }
   ],
   "source": [
    "from tensorflow.keras.models import Sequential, Model\n",
    "from tensorflow.keras.layers import Conv1D, MaxPool1D, Flatten, Dense\n",
    "from tensorflow.keras.optimizers import Adam\n",
    "from sklearn.preprocessing import LabelEncoder, MultiLabelBinarizer\n",
    "\n",
    "model = Sequential([\n",
    "    #Conv1D(32, 3, padding=\"same\", input_shape=X_train[0].shape, activation=\"relu\", name=\"input\"),\n",
    "    Conv1D(128, 3, padding=\"same\", input_shape=X_train[0].shape, activation=\"relu\", name=\"input\"),\n",
    "    MaxPool1D(pool_size=2, name=\"maxpool1\"),\n",
    "    \n",
    "    #Conv1D(64, 3, padding=\"same\", activation=\"relu\", name=\"conv1D_1\"),\n",
    "    Conv1D(128, 3, padding=\"same\", activation=\"relu\", name=\"conv1D_1\"),\n",
    "    MaxPool1D(pool_size=2, name=\"maxpool2\"),\n",
    "    \n",
    "    #Conv1D(128, 3, padding=\"same\", activation=\"relu\", name=\"conv1D_2\"),\n",
    "    Conv1D(64, 3, padding=\"same\", activation=\"relu\", name=\"conv1D_2\"),\n",
    "    MaxPool1D(pool_size=2, name=\"maxpool3\"),\n",
    "    \n",
    "    # Conv1D(256, 3, padding=\"same\", activation=\"relu\", name=\"conv1D_3\"),\n",
    "    # MaxPool1D(pool_size=2, name=\"maxpool4\"),\n",
    "      \n",
    "    Flatten(name=\"flatten\"),\n",
    "    Dense(1024, activation=\"relu\", name=\"dense\"),\n",
    "    \n",
    "    Dense(len(selected_classes_indexes), activation=\"sigmoid\", name=\"output\")\n",
    "])\n",
    "\n",
    "opt = Adam(learning_rate=0.0001)\n",
    "\n",
    "model.summary()"
   ]
  },
  {
   "cell_type": "code",
   "execution_count": 8,
   "id": "a760ccd7",
   "metadata": {},
   "outputs": [
    {
     "data": {
      "image/png": "[encoded data removed]",
      "text/plain": [
       "<IPython.core.display.Image object>"
      ]
     },
     "execution_count": 8,
     "metadata": {},
     "output_type": "execute_result"
    }
   ],
   "source": [
    "from tensorflow.keras.utils import plot_model\n",
    "plot_model(model, show_shapes=True)"
   ]
  },
  {
   "cell_type": "code",
   "execution_count": 9,
   "id": "fbc7df1f",
   "metadata": {},
   "outputs": [
    {
     "name": "stdout",
     "output_type": "stream",
     "text": [
      "Epoch 1/20\n",
      "62/62 [==============================] - 3s 39ms/step - loss: 2.1062 - accuracy: 0.2856 - val_loss: 2.1903 - val_accuracy: 0.2808\n",
      "Epoch 2/20\n",
      "62/62 [==============================] - 2s 33ms/step - loss: 2.0199 - accuracy: 0.3407 - val_loss: 2.1549 - val_accuracy: 0.2575\n",
      "Epoch 3/20\n",
      "62/62 [==============================] - 2s 35ms/step - loss: 1.9331 - accuracy: 0.3589 - val_loss: 2.0519 - val_accuracy: 0.3077\n",
      "Epoch 4/20\n",
      "62/62 [==============================] - 2s 34ms/step - loss: 1.7516 - accuracy: 0.4029 - val_loss: 1.8854 - val_accuracy: 0.3475\n",
      "Epoch 5/20\n",
      "62/62 [==============================] - 2s 33ms/step - loss: 1.5314 - accuracy: 0.4818 - val_loss: 1.6937 - val_accuracy: 0.4465\n",
      "Epoch 6/20\n",
      "62/62 [==============================] - 2s 35ms/step - loss: 1.3184 - accuracy: 0.5637 - val_loss: 1.5929 - val_accuracy: 0.4877\n",
      "Epoch 7/20\n",
      "62/62 [==============================] - 2s 34ms/step - loss: 1.1693 - accuracy: 0.6102 - val_loss: 1.5272 - val_accuracy: 0.4944\n",
      "Epoch 8/20\n",
      "62/62 [==============================] - 2s 34ms/step - loss: 1.0489 - accuracy: 0.6517 - val_loss: 1.4828 - val_accuracy: 0.5038\n",
      "Epoch 9/20\n",
      "62/62 [==============================] - 2s 37ms/step - loss: 0.9751 - accuracy: 0.6678 - val_loss: 1.5007 - val_accuracy: 0.5025\n",
      "Epoch 10/20\n",
      "62/62 [==============================] - 2s 39ms/step - loss: 0.8963 - accuracy: 0.6916 - val_loss: 1.4893 - val_accuracy: 0.5065\n",
      "Epoch 11/20\n",
      "62/62 [==============================] - 2s 36ms/step - loss: 0.8523 - accuracy: 0.7037 - val_loss: 1.5021 - val_accuracy: 0.5128\n",
      "Epoch 12/20\n",
      "62/62 [==============================] - 2s 36ms/step - loss: 0.7995 - accuracy: 0.7204 - val_loss: 1.4972 - val_accuracy: 0.5092\n",
      "Epoch 13/20\n",
      "62/62 [==============================] - 2s 34ms/step - loss: 0.7730 - accuracy: 0.7265 - val_loss: 1.4511 - val_accuracy: 0.5181\n",
      "Epoch 14/20\n",
      "62/62 [==============================] - 2s 34ms/step - loss: 0.7170 - accuracy: 0.7578 - val_loss: 1.5419 - val_accuracy: 0.5114\n",
      "Epoch 15/20\n",
      "62/62 [==============================] - 2s 34ms/step - loss: 0.6758 - accuracy: 0.7725 - val_loss: 1.5272 - val_accuracy: 0.5114\n",
      "Epoch 16/20\n",
      "62/62 [==============================] - 2s 34ms/step - loss: 0.6422 - accuracy: 0.7821 - val_loss: 1.5118 - val_accuracy: 0.5226\n",
      "Epoch 17/20\n",
      "62/62 [==============================] - 2s 34ms/step - loss: 0.6116 - accuracy: 0.7897 - val_loss: 1.6102 - val_accuracy: 0.5096\n",
      "Epoch 18/20\n",
      "62/62 [==============================] - 2s 34ms/step - loss: 0.5940 - accuracy: 0.7952 - val_loss: 1.5550 - val_accuracy: 0.5262\n",
      "Epoch 19/20\n",
      "62/62 [==============================] - 2s 38ms/step - loss: 0.5718 - accuracy: 0.8028 - val_loss: 1.5854 - val_accuracy: 0.5204\n",
      "Epoch 20/20\n",
      "62/62 [==============================] - 2s 38ms/step - loss: 0.5255 - accuracy: 0.8306 - val_loss: 1.5884 - val_accuracy: 0.5231\n"
     ]
    }
   ],
   "source": [
    "# Compile\n",
    "model.compile(\n",
    "    loss=\"categorical_crossentropy\",\n",
    "    optimizer=opt,\n",
    "    metrics=[\"accuracy\"]\n",
    ")\n",
    "\n",
    "history = model.fit(\n",
    "    X_train,\n",
    "    y_train,\n",
    "    batch_size=32,\n",
    "    epochs=20,\n",
    "    validation_data=(X_val, y_val),\n",
    ")"
   ]
  },
  {
   "cell_type": "code",
   "execution_count": 10,
   "id": "e6f5ed51",
   "metadata": {},
   "outputs": [
    {
     "data": {
      "image/png": "[encoded data removed]",
      "text/plain": [
       "<Figure size 432x288 with 1 Axes>"
      ]
     },
     "metadata": {
      "needs_background": "light"
     },
     "output_type": "display_data"
    }
   ],
   "source": [
    "from matplotlib import pyplot as plt\n",
    "\n",
    "plt.plot(history.history['accuracy'])\n",
    "plt.plot(history.history['val_accuracy'])\n",
    "plt.title('model accuracy')\n",
    "plt.ylabel('accuracy')\n",
    "plt.xlabel('epoch')\n",
    "plt.legend(['train', 'val'], loc='upper left')\n",
    "plt.show()"
   ]
  },
  {
   "cell_type": "code",
   "execution_count": 11,
   "id": "d0fdc193",
   "metadata": {
    "scrolled": true
   },
   "outputs": [
    {
     "data": {
      "image/png": "[encoded data removed]",
      "text/plain": [
       "<Figure size 432x288 with 1 Axes>"
      ]
     },
     "metadata": {
      "needs_background": "light"
     },
     "output_type": "display_data"
    }
   ],
   "source": [
    "plt.plot(history.history['loss'])\n",
    "plt.plot(history.history['val_loss'])\n",
    "plt.title('model loss')\n",
    "plt.ylabel('loss')\n",
    "plt.xlabel('epoch')\n",
    "plt.legend(['loss', 'val'], loc='upper left')\n",
    "plt.show()"
   ]
  },
  {
   "cell_type": "code",
   "execution_count": null,
   "id": "86b58bb8",
   "metadata": {
    "scrolled": true
   },
   "outputs": [],
   "source": [
    "from tensorflow.keras import Input\n",
    "from tensorflow.keras.layers import Resizing, Normalization, Conv2D, MaxPooling2D, Dropout\n",
    "\n",
    "# Instantiate the `tf.keras.layers.Normalization` layer.\n",
    "norm_layer = Normalization()\n",
    "# Fit the state of the layer to the spectrograms\n",
    "# with `Normalization.adapt`.\n",
    "norm_layer.adapt(data=X_train)\n",
    "\n",
    "model2 = Sequential([\n",
    "    input_shape=X_train[0].shape,\n",
    "    # Downsample the input.\n",
    "    # Resizing(32, 32),\n",
    "    # Normalize.\n",
    "    norm_layer,\n",
    "    Conv1D(32, 3, activation='relu'),\n",
    "    Conv1D(64, 3, activation='relu'),\n",
    "    MaxPool1D(),\n",
    "    Dropout(0.25),\n",
    "    Flatten(),\n",
    "    Dense(128, activation='relu'),\n",
    "    Dropout(0.5),\n",
    "    Dense(len(selected_classes_indexes)),\n",
    "])\n",
    "\n",
    "model2.summary()"
   ]
  },
  {
   "cell_type": "code",
   "execution_count": null,
   "id": "3b09547c",
   "metadata": {
    "scrolled": true
   },
   "outputs": [],
   "source": [
    "# Compile\n",
    "model2.compile(\n",
    "    loss=\"categorical_crossentropy\",\n",
    "    optimizer=opt,\n",
    "    metrics=[\"accuracy\"]\n",
    ")\n",
    "\n",
    "history2 = model2.fit(\n",
    "    X_train,\n",
    "    y_train,\n",
    "    batch_size=32,\n",
    "    epochs=20,\n",
    "    validation_data=(X_val, y_val),\n",
    ")"
   ]
  },
  {
   "cell_type": "code",
   "execution_count": null,
   "id": "9807b18b",
   "metadata": {},
   "outputs": [],
   "source": [
    "# Esta red no funciona bien, se descarta"
   ]
  },
  {
   "cell_type": "code",
   "execution_count": 18,
   "id": "21479c5b",
   "metadata": {
    "scrolled": false
   },
   "outputs": [
    {
     "name": "stdout",
     "output_type": "stream",
     "text": [
      "Model: \"model_1\"\n",
      "__________________________________________________________________________________________________\n",
      " Layer (type)                   Output Shape         Param #     Connected to                     \n",
      "==================================================================================================\n",
      " input (InputLayer)             [(None, 128, 1)]     0           []                               \n",
      "                                                                                                  \n",
      " conv1d_19 (Conv1D)             (None, 128, 16)      64          ['input[0][0]']                  \n",
      "                                                                                                  \n",
      " activation_13 (Activation)     (None, 128, 16)      0           ['conv1d_19[0][0]']              \n",
      "                                                                                                  \n",
      " conv1d_20 (Conv1D)             (None, 128, 16)      784         ['activation_13[0][0]']          \n",
      "                                                                                                  \n",
      " conv1d_18 (Conv1D)             (None, 128, 16)      32          ['input[0][0]']                  \n",
      "                                                                                                  \n",
      " add_5 (Add)                    (None, 128, 16)      0           ['conv1d_20[0][0]',              \n",
      "                                                                  'conv1d_18[0][0]']              \n",
      "                                                                                                  \n",
      " activation_14 (Activation)     (None, 128, 16)      0           ['add_5[0][0]']                  \n",
      "                                                                                                  \n",
      " max_pooling1d_5 (MaxPooling1D)  (None, 64, 16)      0           ['activation_14[0][0]']          \n",
      "                                                                                                  \n",
      " conv1d_22 (Conv1D)             (None, 64, 32)       1568        ['max_pooling1d_5[0][0]']        \n",
      "                                                                                                  \n",
      " activation_15 (Activation)     (None, 64, 32)       0           ['conv1d_22[0][0]']              \n",
      "                                                                                                  \n",
      " conv1d_23 (Conv1D)             (None, 64, 32)       3104        ['activation_15[0][0]']          \n",
      "                                                                                                  \n",
      " conv1d_21 (Conv1D)             (None, 64, 32)       544         ['max_pooling1d_5[0][0]']        \n",
      "                                                                                                  \n",
      " add_6 (Add)                    (None, 64, 32)       0           ['conv1d_23[0][0]',              \n",
      "                                                                  'conv1d_21[0][0]']              \n",
      "                                                                                                  \n",
      " activation_16 (Activation)     (None, 64, 32)       0           ['add_6[0][0]']                  \n",
      "                                                                                                  \n",
      " max_pooling1d_6 (MaxPooling1D)  (None, 32, 32)      0           ['activation_16[0][0]']          \n",
      "                                                                                                  \n",
      " conv1d_25 (Conv1D)             (None, 32, 64)       6208        ['max_pooling1d_6[0][0]']        \n",
      "                                                                                                  \n",
      " activation_17 (Activation)     (None, 32, 64)       0           ['conv1d_25[0][0]']              \n",
      "                                                                                                  \n",
      " conv1d_26 (Conv1D)             (None, 32, 64)       12352       ['activation_17[0][0]']          \n",
      "                                                                                                  \n",
      " activation_18 (Activation)     (None, 32, 64)       0           ['conv1d_26[0][0]']              \n",
      "                                                                                                  \n",
      " conv1d_27 (Conv1D)             (None, 32, 64)       12352       ['activation_18[0][0]']          \n",
      "                                                                                                  \n",
      " conv1d_24 (Conv1D)             (None, 32, 64)       2112        ['max_pooling1d_6[0][0]']        \n",
      "                                                                                                  \n",
      " add_7 (Add)                    (None, 32, 64)       0           ['conv1d_27[0][0]',              \n",
      "                                                                  'conv1d_24[0][0]']              \n",
      "                                                                                                  \n",
      " activation_19 (Activation)     (None, 32, 64)       0           ['add_7[0][0]']                  \n",
      "                                                                                                  \n",
      " max_pooling1d_7 (MaxPooling1D)  (None, 16, 64)      0           ['activation_19[0][0]']          \n",
      "                                                                                                  \n",
      " conv1d_29 (Conv1D)             (None, 16, 128)      24704       ['max_pooling1d_7[0][0]']        \n",
      "                                                                                                  \n",
      " activation_20 (Activation)     (None, 16, 128)      0           ['conv1d_29[0][0]']              \n",
      "                                                                                                  \n",
      " conv1d_30 (Conv1D)             (None, 16, 128)      49280       ['activation_20[0][0]']          \n",
      "                                                                                                  \n",
      " activation_21 (Activation)     (None, 16, 128)      0           ['conv1d_30[0][0]']              \n",
      "                                                                                                  \n",
      " conv1d_31 (Conv1D)             (None, 16, 128)      49280       ['activation_21[0][0]']          \n",
      "                                                                                                  \n",
      " conv1d_28 (Conv1D)             (None, 16, 128)      8320        ['max_pooling1d_7[0][0]']        \n",
      "                                                                                                  \n",
      " add_8 (Add)                    (None, 16, 128)      0           ['conv1d_31[0][0]',              \n",
      "                                                                  'conv1d_28[0][0]']              \n",
      "                                                                                                  \n",
      " activation_22 (Activation)     (None, 16, 128)      0           ['add_8[0][0]']                  \n",
      "                                                                                                  \n",
      " max_pooling1d_8 (MaxPooling1D)  (None, 8, 128)      0           ['activation_22[0][0]']          \n",
      "                                                                                                  \n",
      " conv1d_33 (Conv1D)             (None, 8, 128)       49280       ['max_pooling1d_8[0][0]']        \n",
      "                                                                                                  \n",
      " activation_23 (Activation)     (None, 8, 128)       0           ['conv1d_33[0][0]']              \n",
      "                                                                                                  \n",
      " conv1d_34 (Conv1D)             (None, 8, 128)       49280       ['activation_23[0][0]']          \n",
      "                                                                                                  \n",
      " activation_24 (Activation)     (None, 8, 128)       0           ['conv1d_34[0][0]']              \n",
      "                                                                                                  \n",
      " conv1d_35 (Conv1D)             (None, 8, 128)       49280       ['activation_24[0][0]']          \n",
      "                                                                                                  \n"
     ]
    },
    {
     "name": "stdout",
     "output_type": "stream",
     "text": [
      " conv1d_32 (Conv1D)             (None, 8, 128)       16512       ['max_pooling1d_8[0][0]']        \n",
      "                                                                                                  \n",
      " add_9 (Add)                    (None, 8, 128)       0           ['conv1d_35[0][0]',              \n",
      "                                                                  'conv1d_32[0][0]']              \n",
      "                                                                                                  \n",
      " activation_25 (Activation)     (None, 8, 128)       0           ['add_9[0][0]']                  \n",
      "                                                                                                  \n",
      " max_pooling1d_9 (MaxPooling1D)  (None, 4, 128)      0           ['activation_25[0][0]']          \n",
      "                                                                                                  \n",
      " average_pooling1d_1 (AveragePo  (None, 1, 128)      0           ['max_pooling1d_9[0][0]']        \n",
      " oling1D)                                                                                         \n",
      "                                                                                                  \n",
      " flatten_1 (Flatten)            (None, 128)          0           ['average_pooling1d_1[0][0]']    \n",
      "                                                                                                  \n",
      " dense_2 (Dense)                (None, 256)          33024       ['flatten_1[0][0]']              \n",
      "                                                                                                  \n",
      " dense_3 (Dense)                (None, 128)          32896       ['dense_2[0][0]']                \n",
      "                                                                                                  \n",
      " output (Dense)                 (None, 10)           1290        ['dense_3[0][0]']                \n",
      "                                                                                                  \n",
      "==================================================================================================\n",
      "Total params: 402,266\n",
      "Trainable params: 402,266\n",
      "Non-trainable params: 0\n",
      "__________________________________________________________________________________________________\n"
     ]
    }
   ],
   "source": [
    "import keras\n",
    "\n",
    "def residual_block(x, filters, conv_num=3, activation=\"relu\"):\n",
    "    # Shortcut\n",
    "    s = keras.layers.Conv1D(filters, 1, padding=\"same\")(x)\n",
    "    for i in range(conv_num - 1):\n",
    "        x = keras.layers.Conv1D(filters, 3, padding=\"same\")(x)\n",
    "        x = keras.layers.Activation(activation)(x)\n",
    "    x = keras.layers.Conv1D(filters, 3, padding=\"same\")(x)\n",
    "    x = keras.layers.Add()([x, s])\n",
    "    x = keras.layers.Activation(activation)(x)\n",
    "    return keras.layers.MaxPool1D(pool_size=2, strides=2)(x)\n",
    "\n",
    "\n",
    "def build_model(input_shape, num_classes):\n",
    "    inputs = keras.layers.Input(shape=input_shape, name=\"input\")\n",
    "\n",
    "    x = residual_block(inputs, 16, 2)\n",
    "    x = residual_block(x, 32, 2)\n",
    "    x = residual_block(x, 64, 3)\n",
    "    x = residual_block(x, 128, 3)\n",
    "    x = residual_block(x, 128, 3)\n",
    "\n",
    "    x = keras.layers.AveragePooling1D(pool_size=3, strides=3)(x)\n",
    "    x = keras.layers.Flatten()(x)\n",
    "    x = keras.layers.Dense(256, activation=\"relu\")(x)\n",
    "    x = keras.layers.Dense(128, activation=\"relu\")(x)\n",
    "\n",
    "    outputs = keras.layers.Dense(num_classes, activation=\"softmax\", name=\"output\")(x)\n",
    "\n",
    "    return keras.models.Model(inputs=inputs, outputs=outputs)\n",
    "\n",
    "\n",
    "model2 = build_model(X_train[0].shape, len(selected_classes_indexes))\n",
    "\n",
    "model2.summary()"
   ]
  },
  {
   "cell_type": "code",
   "execution_count": 19,
   "id": "ea2f5ec4",
   "metadata": {
    "scrolled": true
   },
   "outputs": [
    {
     "name": "stdout",
     "output_type": "stream",
     "text": [
      "Epoch 1/20\n",
      "62/62 [==============================] - 5s 49ms/step - loss: 2.1116 - accuracy: 0.2204 - val_loss: 2.2052 - val_accuracy: 0.2373\n",
      "Epoch 2/20\n",
      "62/62 [==============================] - 3s 48ms/step - loss: 2.0731 - accuracy: 0.2422 - val_loss: 2.1975 - val_accuracy: 0.2365\n",
      "Epoch 3/20\n",
      "62/62 [==============================] - 2s 39ms/step - loss: 2.0666 - accuracy: 0.2720 - val_loss: 2.2087 - val_accuracy: 0.1966\n",
      "Epoch 4/20\n",
      "62/62 [==============================] - 3s 47ms/step - loss: 2.0539 - accuracy: 0.2786 - val_loss: 2.1911 - val_accuracy: 0.1899\n",
      "Epoch 5/20\n",
      "62/62 [==============================] - 3s 46ms/step - loss: 2.0219 - accuracy: 0.2856 - val_loss: 2.2018 - val_accuracy: 0.2091\n",
      "Epoch 6/20\n",
      "62/62 [==============================] - 3s 42ms/step - loss: 1.9546 - accuracy: 0.3109 - val_loss: 2.0605 - val_accuracy: 0.2714\n",
      "Epoch 7/20\n",
      "62/62 [==============================] - 3s 44ms/step - loss: 1.7727 - accuracy: 0.3670 - val_loss: 1.8604 - val_accuracy: 0.3336\n",
      "Epoch 8/20\n",
      "62/62 [==============================] - 3s 44ms/step - loss: 1.5832 - accuracy: 0.4353 - val_loss: 1.7291 - val_accuracy: 0.4142\n",
      "Epoch 9/20\n",
      "62/62 [==============================] - 2s 41ms/step - loss: 1.4642 - accuracy: 0.4671 - val_loss: 1.7444 - val_accuracy: 0.4268\n",
      "Epoch 10/20\n",
      "62/62 [==============================] - 3s 47ms/step - loss: 1.3282 - accuracy: 0.5394 - val_loss: 1.6708 - val_accuracy: 0.4151\n",
      "Epoch 11/20\n",
      "62/62 [==============================] - 3s 41ms/step - loss: 1.2471 - accuracy: 0.5561 - val_loss: 1.7928 - val_accuracy: 0.4214\n",
      "Epoch 12/20\n",
      "62/62 [==============================] - 3s 44ms/step - loss: 1.1904 - accuracy: 0.5824 - val_loss: 1.6512 - val_accuracy: 0.4407\n",
      "Epoch 13/20\n",
      "62/62 [==============================] - 3s 45ms/step - loss: 1.1131 - accuracy: 0.6036 - val_loss: 1.6206 - val_accuracy: 0.4684\n",
      "Epoch 14/20\n",
      "62/62 [==============================] - 3s 49ms/step - loss: 1.0346 - accuracy: 0.6330 - val_loss: 1.5738 - val_accuracy: 0.4845\n",
      "Epoch 15/20\n",
      "62/62 [==============================] - 3s 48ms/step - loss: 0.9708 - accuracy: 0.6577 - val_loss: 1.5805 - val_accuracy: 0.4953\n",
      "Epoch 16/20\n",
      "62/62 [==============================] - 3s 49ms/step - loss: 0.9196 - accuracy: 0.6663 - val_loss: 1.5820 - val_accuracy: 0.4845\n",
      "Epoch 17/20\n",
      "62/62 [==============================] - 3s 53ms/step - loss: 0.8881 - accuracy: 0.6835 - val_loss: 1.5970 - val_accuracy: 0.4922\n",
      "Epoch 18/20\n",
      "62/62 [==============================] - 5s 77ms/step - loss: 0.8382 - accuracy: 0.7088 - val_loss: 1.6204 - val_accuracy: 0.5083\n",
      "Epoch 19/20\n",
      "62/62 [==============================] - 3s 50ms/step - loss: 0.7808 - accuracy: 0.7265 - val_loss: 1.6275 - val_accuracy: 0.5029\n",
      "Epoch 20/20\n",
      "62/62 [==============================] - 4s 62ms/step - loss: 0.7402 - accuracy: 0.7417 - val_loss: 1.6907 - val_accuracy: 0.4935\n"
     ]
    }
   ],
   "source": [
    "# Compile\n",
    "model2.compile(\n",
    "    loss=\"categorical_crossentropy\",\n",
    "    optimizer=opt,\n",
    "    metrics=[\"accuracy\"]\n",
    ")\n",
    "\n",
    "history2 = model2.fit(\n",
    "    X_train,\n",
    "    y_train,\n",
    "    batch_size=32,\n",
    "    epochs=20,\n",
    "    validation_data=(X_val, y_val),\n",
    ")"
   ]
  },
  {
   "cell_type": "code",
   "execution_count": 20,
   "id": "85eaecb0",
   "metadata": {
    "scrolled": true
   },
   "outputs": [
    {
     "data": {
      "image/png": "[encoded data removed]",
      "text/plain": [
       "<Figure size 432x288 with 1 Axes>"
      ]
     },
     "metadata": {
      "needs_background": "light"
     },
     "output_type": "display_data"
    }
   ],
   "source": [
    "from matplotlib import pyplot as plt\n",
    "\n",
    "plt.plot(history2.history['accuracy'])\n",
    "plt.plot(history2.history['val_accuracy'])\n",
    "plt.title('model accuracy')\n",
    "plt.ylabel('accuracy')\n",
    "plt.xlabel('epoch')\n",
    "plt.legend(['train', 'val'], loc='upper left')\n",
    "plt.show()"
   ]
  },
  {
   "cell_type": "code",
   "execution_count": 26,
   "id": "0a57b280",
   "metadata": {
    "scrolled": true
   },
   "outputs": [
    {
     "name": "stdout",
     "output_type": "stream",
     "text": [
      "Model: \"sound_recognition\"\n",
      "_________________________________________________________________\n",
      " Layer (type)                Output Shape              Param #   \n",
      "=================================================================\n",
      " embedding (InputLayer)      [(None, 128, 1)]          0         \n",
      "                                                                 \n",
      " dense_1 (Dense)             (None, 128, 256)          512       \n",
      "                                                                 \n",
      " dropout_1 (Dropout)         (None, 128, 256)          0         \n",
      "                                                                 \n",
      " dense_2 (Dense)             (None, 128, 384)          98688     \n",
      "                                                                 \n",
      " dropout_2 (Dropout)         (None, 128, 384)          0         \n",
      "                                                                 \n",
      " dense_3 (Dense)             (None, 128, 192)          73920     \n",
      "                                                                 \n",
      " dropout_3 (Dropout)         (None, 128, 192)          0         \n",
      "                                                                 \n",
      " dense_4 (Dense)             (None, 128, 384)          74112     \n",
      "                                                                 \n",
      " dropout_4 (Dropout)         (None, 128, 384)          0         \n",
      "                                                                 \n",
      " flatten (Flatten)           (None, 49152)             0         \n",
      "                                                                 \n",
      " ouput (Dense)               (None, 10)                491530    \n",
      "                                                                 \n",
      "=================================================================\n",
      "Total params: 738,762\n",
      "Trainable params: 738,762\n",
      "Non-trainable params: 0\n",
      "_________________________________________________________________\n"
     ]
    }
   ],
   "source": [
    "keras.backend.clear_session()\n",
    "\n",
    "\n",
    "def build_and_compile_model():\n",
    "    inputs = keras.layers.Input(X_train[0].shape, name=\"embedding\")\n",
    "\n",
    "    x = keras.layers.Dense(256, activation=\"relu\", name=\"dense_1\")(inputs)\n",
    "    x = keras.layers.Dropout(0.15, name=\"dropout_1\")(x)\n",
    "\n",
    "    x = keras.layers.Dense(384, activation=\"relu\", name=\"dense_2\")(x)\n",
    "    x = keras.layers.Dropout(0.2, name=\"dropout_2\")(x)\n",
    "\n",
    "    x = keras.layers.Dense(192, activation=\"relu\", name=\"dense_3\")(x)\n",
    "    x = keras.layers.Dropout(0.25, name=\"dropout_3\")(x)\n",
    "\n",
    "    x = keras.layers.Dense(384, activation=\"relu\", name=\"dense_4\")(x)\n",
    "    x = keras.layers.Dropout(0.2, name=\"dropout_4\")(x)\n",
    "    x = keras.layers.Flatten()(x)\n",
    "\n",
    "    outputs = keras.layers.Dense(len(selected_classes_indexes), activation=\"softmax\", name=\"ouput\")(x)\n",
    "\n",
    "    model = keras.Model(inputs=inputs, outputs=outputs, name=\"sound_recognition\")\n",
    "\n",
    "    model.compile(\n",
    "        optimizer=Adam(learning_rate=1.9644e-5),\n",
    "        loss=keras.losses.CategoricalCrossentropy(),\n",
    "        metrics=[\"accuracy\", keras.metrics.AUC(name=\"auc\")],\n",
    "    )\n",
    "\n",
    "    return model\n",
    "\n",
    "\n",
    "model3 = build_and_compile_model()\n",
    "model3.summary()"
   ]
  },
  {
   "cell_type": "code",
   "execution_count": 27,
   "id": "d2cfcb80",
   "metadata": {
    "scrolled": true
   },
   "outputs": [
    {
     "name": "stdout",
     "output_type": "stream",
     "text": [
      "Epoch 1/20\n",
      "62/62 [==============================] - 12s 177ms/step - loss: 2.2041 - accuracy: 0.2265 - auc: 0.6849 - val_loss: 2.1984 - val_accuracy: 0.2029 - val_auc: 0.6737\n",
      "Epoch 2/20\n",
      "62/62 [==============================] - 11s 172ms/step - loss: 2.0344 - accuracy: 0.3023 - auc: 0.7339 - val_loss: 2.1449 - val_accuracy: 0.2539 - val_auc: 0.6945\n",
      "Epoch 3/20\n",
      "62/62 [==============================] - 10s 167ms/step - loss: 1.9519 - accuracy: 0.3620 - auc: 0.7721 - val_loss: 2.0860 - val_accuracy: 0.2915 - val_auc: 0.7230\n",
      "Epoch 4/20\n",
      "62/62 [==============================] - 18s 285ms/step - loss: 1.8255 - accuracy: 0.4024 - auc: 0.8099 - val_loss: 1.9597 - val_accuracy: 0.3475 - val_auc: 0.7583\n",
      "Epoch 5/20\n",
      "62/62 [==============================] - 21s 334ms/step - loss: 1.5836 - accuracy: 0.4869 - auc: 0.8621 - val_loss: 1.6917 - val_accuracy: 0.4617 - val_auc: 0.8327\n",
      "Epoch 6/20\n",
      "62/62 [==============================] - 18s 289ms/step - loss: 1.2329 - accuracy: 0.6102 - auc: 0.9281 - val_loss: 1.4443 - val_accuracy: 0.5249 - val_auc: 0.8819\n",
      "Epoch 7/20\n",
      "62/62 [==============================] - 12s 188ms/step - loss: 0.9839 - accuracy: 0.6886 - auc: 0.9510 - val_loss: 1.3497 - val_accuracy: 0.5455 - val_auc: 0.8974\n",
      "Epoch 8/20\n",
      "62/62 [==============================] - 14s 233ms/step - loss: 0.8726 - accuracy: 0.7078 - auc: 0.9582 - val_loss: 1.3204 - val_accuracy: 0.5450 - val_auc: 0.9034\n",
      "Epoch 9/20\n",
      "62/62 [==============================] - 11s 185ms/step - loss: 0.8064 - accuracy: 0.7371 - auc: 0.9633 - val_loss: 1.3520 - val_accuracy: 0.5437 - val_auc: 0.9003\n",
      "Epoch 10/20\n",
      "62/62 [==============================] - 9s 151ms/step - loss: 0.7589 - accuracy: 0.7492 - auc: 0.9663 - val_loss: 1.3910 - val_accuracy: 0.5378 - val_auc: 0.8988\n",
      "Epoch 11/20\n",
      "62/62 [==============================] - 9s 149ms/step - loss: 0.7174 - accuracy: 0.7553 - auc: 0.9705 - val_loss: 1.4262 - val_accuracy: 0.5423 - val_auc: 0.8969\n",
      "Epoch 12/20\n",
      "62/62 [==============================] - 10s 164ms/step - loss: 0.6989 - accuracy: 0.7639 - auc: 0.9719 - val_loss: 1.4361 - val_accuracy: 0.5423 - val_auc: 0.8958\n",
      "Epoch 13/20\n",
      "62/62 [==============================] - 10s 169ms/step - loss: 0.6704 - accuracy: 0.7720 - auc: 0.9740 - val_loss: 1.4564 - val_accuracy: 0.5396 - val_auc: 0.8955\n",
      "Epoch 14/20\n",
      "62/62 [==============================] - 10s 155ms/step - loss: 0.6503 - accuracy: 0.7710 - auc: 0.9753 - val_loss: 1.4952 - val_accuracy: 0.5365 - val_auc: 0.8922\n",
      "Epoch 15/20\n",
      "62/62 [==============================] - 10s 157ms/step - loss: 0.6292 - accuracy: 0.7867 - auc: 0.9764 - val_loss: 1.5085 - val_accuracy: 0.5432 - val_auc: 0.8913\n",
      "Epoch 16/20\n",
      "62/62 [==============================] - 11s 184ms/step - loss: 0.6077 - accuracy: 0.7882 - auc: 0.9783 - val_loss: 1.5373 - val_accuracy: 0.5378 - val_auc: 0.8898\n",
      "Epoch 17/20\n",
      "62/62 [==============================] - 17s 269ms/step - loss: 0.5911 - accuracy: 0.7952 - auc: 0.9795 - val_loss: 1.5857 - val_accuracy: 0.5387 - val_auc: 0.8869\n",
      "Epoch 18/20\n",
      "62/62 [==============================] - 14s 224ms/step - loss: 0.5879 - accuracy: 0.7952 - auc: 0.9789 - val_loss: 1.5941 - val_accuracy: 0.5361 - val_auc: 0.8848\n",
      "Epoch 19/20\n",
      "62/62 [==============================] - 11s 184ms/step - loss: 0.5719 - accuracy: 0.8008 - auc: 0.9808 - val_loss: 1.5926 - val_accuracy: 0.5361 - val_auc: 0.8863\n",
      "Epoch 20/20\n",
      "62/62 [==============================] - 9s 151ms/step - loss: 0.5604 - accuracy: 0.8043 - auc: 0.9812 - val_loss: 1.6503 - val_accuracy: 0.5347 - val_auc: 0.8832\n"
     ]
    }
   ],
   "source": [
    "history3 = model3.fit(\n",
    "    X_train,\n",
    "    y_train,\n",
    "    batch_size=32,\n",
    "    epochs=20,\n",
    "    validation_data=(X_val, y_val),\n",
    ")"
   ]
  },
  {
   "cell_type": "code",
   "execution_count": 28,
   "id": "cae63891",
   "metadata": {},
   "outputs": [
    {
     "data": {
      "image/png": "[encoded data removed]",
      "text/plain": [
       "<Figure size 432x288 with 1 Axes>"
      ]
     },
     "metadata": {
      "needs_background": "light"
     },
     "output_type": "display_data"
    }
   ],
   "source": [
    "plt.plot(history3.history['accuracy'])\n",
    "plt.plot(history3.history['val_accuracy'])\n",
    "plt.title('model accuracy')\n",
    "plt.ylabel('accuracy')\n",
    "plt.xlabel('epoch')\n",
    "plt.legend(['train', 'val'], loc='upper left')\n",
    "plt.show()"
   ]
  }
 ],
 "metadata": {
  "kernelspec": {
   "display_name": "Python 3 (ipykernel)",
   "language": "python",
   "name": "python3"
  },
  "language_info": {
   "codemirror_mode": {
    "name": "ipython",
    "version": 3
   },
   "file_extension": ".py",
   "mimetype": "text/x-python",
   "name": "python",
   "nbconvert_exporter": "python",
   "pygments_lexer": "ipython3",
   "version": "3.10.4"
  }
 },
 "nbformat": 4,
 "nbformat_minor": 5
}
