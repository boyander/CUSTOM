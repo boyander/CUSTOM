{
 "cells": [
  {
   "cell_type": "markdown",
   "id": "7e78278c",
   "metadata": {},
   "source": [
    "## Load and filter classes"
   ]
  },
  {
   "cell_type": "code",
   "execution_count": 1,
   "id": "e3a53370",
   "metadata": {},
   "outputs": [
    {
     "name": "stdout",
     "output_type": "stream",
     "text": [
      "[53, 68, 71, 74, 111, 308, 327, 334, 396, 420]\n"
     ]
    }
   ],
   "source": [
    "import pandas as pd\n",
    "\n",
    "classes_file = \"../dataset/class_labels_indices.csv\"\n",
    "selected_classes = [\"Vehicle horn, car horn, honking\", \"Children playing\", \"Dog\", \"Jackhammer\", \"Siren\", \n",
    "                    \"Traffic noise, roadway noise\", \"Subway, metro, underground\", \"Walk, footsteps\", \"Chatter\", \"Bird\"]\n",
    "df = pd.read_csv(classes_file)\n",
    "df.set_index(\"index\", inplace=True)\n",
    "selected_classes_indexes = df.index[df['display_name'].isin(selected_classes)].tolist()\n",
    "print(selected_classes_indexes)"
   ]
  },
  {
   "cell_type": "code",
   "execution_count": 2,
   "id": "8e2404c3",
   "metadata": {
    "scrolled": true
   },
   "outputs": [],
   "source": [
    "import os\n",
    "import tensorflow as tf\n",
    "import numpy as np\n",
    "from sklearn.preprocessing import MultiLabelBinarizer\n",
    "\n",
    "def extract_features(dataset_dir):\n",
    "    X = []\n",
    "    y = []\n",
    "    recordset = os.listdir(dataset_dir)\n",
    "    for record in recordset:\n",
    "        raw_dataset = tf.data.TFRecordDataset(dataset_dir+record)    \n",
    "        for raw_record in raw_dataset.take(1):\n",
    "            example = tf.train.Example()\n",
    "            example.ParseFromString(raw_record.numpy())\n",
    "\n",
    "            labels = example.features.feature['labels'].int64_list.value\n",
    "            # print(labels)\n",
    "\n",
    "            for label in labels:\n",
    "                if label in selected_classes_indexes:\n",
    "                    # video = example.features.feature['video_id'].bytes_list.value[0].decode(\"utf-8\")\n",
    "                    # start = example.features.feature['start_time_seconds'].float_list.value[0]\n",
    "                    # end = example.features.feature['end_time_seconds'].float_list.value[0]\n",
    "                    # print(f\"Video: {video}\")\n",
    "                    # print(f\"Duration: {end-start} seconds\")\n",
    "                    \n",
    "                    labels_detected = set(labels).intersection(set(selected_classes_indexes))\n",
    "                    # print(f\"Labels: \", labels_detected)\n",
    "                    \n",
    "                    example_seq = tf.train.SequenceExample()\n",
    "                    example_seq.ParseFromString(raw_record.numpy())\n",
    "                    \n",
    "                    try:\n",
    "                        i=0\n",
    "                        feats_list = example_seq.feature_lists.feature_list['audio_embedding']\n",
    "                        while True:\n",
    "                            hex_features = feats_list.feature[i].bytes_list.value[0].hex()\n",
    "                            features_array = [int(hex_features[k:k+2],16) for k in range(0,len(hex_features),2)]\n",
    "                            # for l in labels_detected:\n",
    "                                # If there's more than one of the selected labels in the video\n",
    "                            X.append(features_array)\n",
    "                            y.append(list(labels_detected))\n",
    "                            i += 1\n",
    "                    except IndexError as ie:\n",
    "                            #FeatureList does not have length, so we read until the end\n",
    "                            continue\n",
    "                            \n",
    "    X = np.array(X)/255\n",
    "    y = np.array(y, dtype=object)\n",
    "    \n",
    "    # Apply OneHotEncodig to ground truth\n",
    "    mlb = MultiLabelBinarizer()\n",
    "    y = mlb.fit_transform(y)\n",
    "\n",
    "    # We need to add at least one dimension to our X   \n",
    "    X = X.reshape(X.shape[0], 128, 1)\n",
    "    return X,y"
   ]
  },
  {
   "cell_type": "code",
   "execution_count": 3,
   "id": "ed0f73f6",
   "metadata": {},
   "outputs": [
    {
     "name": "stdout",
     "output_type": "stream",
     "text": [
      "(1978, 128, 1) (1978, 10)\n"
     ]
    }
   ],
   "source": [
    "# Extract data for training\n",
    "X_train, y_train = extract_features(\"../dataset/audioset_v1_embeddings/bal_train/\")\n",
    "\n",
    "print(X_train.shape, y_train.shape)"
   ]
  },
  {
   "cell_type": "code",
   "execution_count": 4,
   "id": "fd97d6d3",
   "metadata": {},
   "outputs": [
    {
     "name": "stdout",
     "output_type": "stream",
     "text": [
      "(2233, 128, 1) (2233, 10)\n"
     ]
    }
   ],
   "source": [
    "# Extract also X and y for validation\n",
    "X_val, y_val = extract_features(\"../dataset/audioset_v1_embeddings/eval/\")\n",
    "print(X_val.shape, y_val.shape)"
   ]
  },
  {
   "cell_type": "markdown",
   "id": "24a23d2c",
   "metadata": {},
   "source": [
    "# Define neural network for classification\n",
    "We need a neural network with 128 inputs and 10 outputs (one for each audio class). As each audio could be multilabelled, it is not recommended to use softmax as output layer but sigmoid (https://glassboxmedicine.com/2019/05/26/classification-sigmoid-vs-softmax/)"
   ]
  },
  {
   "cell_type": "code",
   "execution_count": 5,
   "id": "4a445820",
   "metadata": {
    "scrolled": true
   },
   "outputs": [
    {
     "name": "stdout",
     "output_type": "stream",
     "text": [
      "Model: \"sequential\"\n",
      "_________________________________________________________________\n",
      " Layer (type)                Output Shape              Param #   \n",
      "=================================================================\n",
      " input (Conv1D)              (None, 128, 128)          512       \n",
      "                                                                 \n",
      " maxpool1 (MaxPooling1D)     (None, 64, 128)           0         \n",
      "                                                                 \n",
      " conv1D_1 (Conv1D)           (None, 64, 128)           49280     \n",
      "                                                                 \n",
      " maxpool2 (MaxPooling1D)     (None, 32, 128)           0         \n",
      "                                                                 \n",
      " conv1D_2 (Conv1D)           (None, 32, 64)            24640     \n",
      "                                                                 \n",
      " maxpool3 (MaxPooling1D)     (None, 16, 64)            0         \n",
      "                                                                 \n",
      " flatten (Flatten)           (None, 1024)              0         \n",
      "                                                                 \n",
      " dense (Dense)               (None, 1024)              1049600   \n",
      "                                                                 \n",
      " output (Dense)              (None, 10)                10250     \n",
      "                                                                 \n",
      "=================================================================\n",
      "Total params: 1,134,282\n",
      "Trainable params: 1,134,282\n",
      "Non-trainable params: 0\n",
      "_________________________________________________________________\n"
     ]
    }
   ],
   "source": [
    "from tensorflow.keras.models import Sequential, Model\n",
    "from tensorflow.keras.layers import Conv1D, MaxPool1D, Flatten, Dense\n",
    "from tensorflow.keras.optimizers import Adam\n",
    "from sklearn.preprocessing import LabelEncoder, MultiLabelBinarizer\n",
    "\n",
    "model = Sequential([\n",
    "    #Conv1D(32, 3, padding=\"same\", input_shape=X_train[0].shape, activation=\"relu\", name=\"input\"),\n",
    "    Conv1D(128, 3, padding=\"same\", input_shape=X_train[0].shape, activation=\"relu\", name=\"input\"),\n",
    "    MaxPool1D(pool_size=2, name=\"maxpool1\"),\n",
    "    \n",
    "    #Conv1D(64, 3, padding=\"same\", activation=\"relu\", name=\"conv1D_1\"),\n",
    "    Conv1D(128, 3, padding=\"same\", activation=\"relu\", name=\"conv1D_1\"),\n",
    "    MaxPool1D(pool_size=2, name=\"maxpool2\"),\n",
    "    \n",
    "    #Conv1D(128, 3, padding=\"same\", activation=\"relu\", name=\"conv1D_2\"),\n",
    "    Conv1D(64, 3, padding=\"same\", activation=\"relu\", name=\"conv1D_2\"),\n",
    "    MaxPool1D(pool_size=2, name=\"maxpool3\"),\n",
    "    \n",
    "    # Conv1D(256, 3, padding=\"same\", activation=\"relu\", name=\"conv1D_3\"),\n",
    "    # MaxPool1D(pool_size=2, name=\"maxpool4\"),\n",
    "      \n",
    "    Flatten(name=\"flatten\"),\n",
    "    Dense(1024, activation=\"relu\", name=\"dense\"),\n",
    "    \n",
    "    Dense(len(selected_classes_indexes), activation=\"sigmoid\", name=\"output\")\n",
    "])\n",
    "\n",
    "opt = Adam(learning_rate=0.0001)\n",
    "\n",
    "model.summary()"
   ]
  },
  {
   "cell_type": "code",
   "execution_count": 6,
   "id": "a760ccd7",
   "metadata": {},
   "outputs": [
    {
     "data": {
      "image/png": "[encoded data removed]",
      "text/plain": [
       "<IPython.core.display.Image object>"
      ]
     },
     "execution_count": 6,
     "metadata": {},
     "output_type": "execute_result"
    }
   ],
   "source": [
    "from tensorflow.keras.utils import plot_model\n",
    "plot_model(model, show_shapes=True)"
   ]
  },
  {
   "cell_type": "code",
   "execution_count": 7,
   "id": "fbc7df1f",
   "metadata": {
    "scrolled": true
   },
   "outputs": [
    {
     "name": "stdout",
     "output_type": "stream",
     "text": [
      "Epoch 1/20\n",
      "62/62 [==============================] - 11s 37ms/step - loss: 2.1046 - accuracy: 0.2649 - val_loss: 2.1935 - val_accuracy: 0.2835\n",
      "Epoch 2/20\n",
      "62/62 [==============================] - 1s 13ms/step - loss: 2.0227 - accuracy: 0.3008 - val_loss: 2.1628 - val_accuracy: 0.2056\n",
      "Epoch 3/20\n",
      "62/62 [==============================] - 1s 13ms/step - loss: 1.9460 - accuracy: 0.3645 - val_loss: 2.0647 - val_accuracy: 0.3193\n",
      "Epoch 4/20\n",
      "62/62 [==============================] - 1s 13ms/step - loss: 1.7777 - accuracy: 0.4050 - val_loss: 1.8779 - val_accuracy: 0.3887\n",
      "Epoch 5/20\n",
      "62/62 [==============================] - 1s 12ms/step - loss: 1.5517 - accuracy: 0.4717 - val_loss: 1.7193 - val_accuracy: 0.4532\n",
      "Epoch 6/20\n",
      "62/62 [==============================] - 1s 13ms/step - loss: 1.3155 - accuracy: 0.5683 - val_loss: 1.6103 - val_accuracy: 0.4850\n",
      "Epoch 7/20\n",
      "62/62 [==============================] - 1s 13ms/step - loss: 1.1618 - accuracy: 0.6153 - val_loss: 1.5412 - val_accuracy: 0.5137\n",
      "Epoch 8/20\n",
      "62/62 [==============================] - 1s 13ms/step - loss: 1.0383 - accuracy: 0.6461 - val_loss: 1.4918 - val_accuracy: 0.5078\n",
      "Epoch 9/20\n",
      "62/62 [==============================] - 1s 13ms/step - loss: 0.9401 - accuracy: 0.6855 - val_loss: 1.5771 - val_accuracy: 0.4971\n",
      "Epoch 10/20\n",
      "62/62 [==============================] - 3s 42ms/step - loss: 0.8975 - accuracy: 0.6992 - val_loss: 1.4671 - val_accuracy: 0.5226\n",
      "Epoch 11/20\n",
      "62/62 [==============================] - 3s 53ms/step - loss: 0.8310 - accuracy: 0.7164 - val_loss: 1.5278 - val_accuracy: 0.5110\n",
      "Epoch 12/20\n",
      "62/62 [==============================] - 4s 57ms/step - loss: 0.7973 - accuracy: 0.7260 - val_loss: 1.5223 - val_accuracy: 0.5204\n",
      "Epoch 13/20\n",
      "62/62 [==============================] - 4s 57ms/step - loss: 0.7397 - accuracy: 0.7508 - val_loss: 1.4978 - val_accuracy: 0.5240\n",
      "Epoch 14/20\n",
      "62/62 [==============================] - 4s 57ms/step - loss: 0.7061 - accuracy: 0.7619 - val_loss: 1.5522 - val_accuracy: 0.5163\n",
      "Epoch 15/20\n",
      "62/62 [==============================] - 4s 57ms/step - loss: 0.6773 - accuracy: 0.7765 - val_loss: 1.5771 - val_accuracy: 0.5078\n",
      "Epoch 16/20\n",
      "62/62 [==============================] - 4s 57ms/step - loss: 0.6405 - accuracy: 0.7851 - val_loss: 1.6537 - val_accuracy: 0.5078\n",
      "Epoch 17/20\n",
      "62/62 [==============================] - 4s 57ms/step - loss: 0.6201 - accuracy: 0.7993 - val_loss: 1.5727 - val_accuracy: 0.5168\n",
      "Epoch 18/20\n",
      "62/62 [==============================] - 4s 58ms/step - loss: 0.5867 - accuracy: 0.8049 - val_loss: 1.6099 - val_accuracy: 0.5195\n",
      "Epoch 19/20\n",
      "62/62 [==============================] - 4s 57ms/step - loss: 0.5622 - accuracy: 0.8190 - val_loss: 1.6968 - val_accuracy: 0.5105\n",
      "Epoch 20/20\n",
      "62/62 [==============================] - 4s 58ms/step - loss: 0.5387 - accuracy: 0.8236 - val_loss: 1.6674 - val_accuracy: 0.5114\n"
     ]
    }
   ],
   "source": [
    "# Compile\n",
    "model.compile(\n",
    "    loss=\"categorical_crossentropy\",\n",
    "    optimizer=opt,\n",
    "    metrics=[\"accuracy\"]\n",
    ")\n",
    "\n",
    "history = model.fit(\n",
    "    X_train,\n",
    "    y_train,\n",
    "    batch_size=32,\n",
    "    epochs=20,\n",
    "    validation_data=(X_val, y_val),\n",
    ")"
   ]
  },
  {
   "cell_type": "code",
   "execution_count": 8,
   "id": "9667a590",
   "metadata": {},
   "outputs": [],
   "source": [
    "model.save(\"pokemon_model_trained.h5\")"
   ]
  },
  {
   "cell_type": "code",
   "execution_count": 9,
   "id": "e6f5ed51",
   "metadata": {},
   "outputs": [
    {
     "data": {
      "image/png": "[encoded data removed]",
      "text/plain": [
       "<Figure size 432x288 with 1 Axes>"
      ]
     },
     "metadata": {
      "needs_background": "light"
     },
     "output_type": "display_data"
    }
   ],
   "source": [
    "from matplotlib import pyplot as plt\n",
    "\n",
    "plt.plot(history.history['accuracy'])\n",
    "plt.plot(history.history['val_accuracy'])\n",
    "plt.title('model accuracy')\n",
    "plt.ylabel('accuracy')\n",
    "plt.xlabel('epoch')\n",
    "plt.legend(['train', 'val'], loc='upper left')\n",
    "plt.show()"
   ]
  },
  {
   "cell_type": "code",
   "execution_count": 10,
   "id": "d0fdc193",
   "metadata": {
    "scrolled": true
   },
   "outputs": [
    {
     "data": {
      "image/png": "[encoded data removed]",
      "text/plain": [
       "<Figure size 432x288 with 1 Axes>"
      ]
     },
     "metadata": {
      "needs_background": "light"
     },
     "output_type": "display_data"
    }
   ],
   "source": [
    "plt.plot(history.history['loss'])\n",
    "plt.plot(history.history['val_loss'])\n",
    "plt.title('model loss')\n",
    "plt.ylabel('loss')\n",
    "plt.xlabel('epoch')\n",
    "plt.legend(['loss', 'val'], loc='upper left')\n",
    "plt.show()"
   ]
  },
  {
   "cell_type": "code",
   "execution_count": 11,
   "id": "86b58bb8",
   "metadata": {
    "scrolled": true
   },
   "outputs": [
    {
     "ename": "SyntaxError",
     "evalue": "invalid syntax. Maybe you meant '==' or ':=' instead of '='? (1343688098.py, line 11)",
     "output_type": "error",
     "traceback": [
      "\u001b[1;36m  Input \u001b[1;32mIn [11]\u001b[1;36m\u001b[0m\n\u001b[1;33m    input_shape=X_train[0].shape,\u001b[0m\n\u001b[1;37m    ^\u001b[0m\n\u001b[1;31mSyntaxError\u001b[0m\u001b[1;31m:\u001b[0m invalid syntax. Maybe you meant '==' or ':=' instead of '='?\n"
     ]
    }
   ],
   "source": [
    "from tensorflow.keras import Input\n",
    "from tensorflow.keras.layers import Resizing, Normalization, Conv2D, MaxPooling2D, Dropout\n",
    "\n",
    "# Instantiate the `tf.keras.layers.Normalization` layer.\n",
    "norm_layer = Normalization()\n",
    "# Fit the state of the layer to the spectrograms\n",
    "# with `Normalization.adapt`.\n",
    "norm_layer.adapt(data=X_train)\n",
    "\n",
    "model2 = Sequential([\n",
    "    input_shape=X_train[0].shape,\n",
    "    # Downsample the input.\n",
    "    # Resizing(32, 32),\n",
    "    # Normalize.\n",
    "    norm_layer,\n",
    "    Conv1D(32, 3, activation='relu'),\n",
    "    Conv1D(64, 3, activation='relu'),\n",
    "    MaxPool1D(),\n",
    "    Dropout(0.25),\n",
    "    Flatten(),\n",
    "    Dense(128, activation='relu'),\n",
    "    Dropout(0.5),\n",
    "    Dense(len(selected_classes_indexes)),\n",
    "])\n",
    "\n",
    "model2.summary()"
   ]
  },
  {
   "cell_type": "code",
   "execution_count": null,
   "id": "3b09547c",
   "metadata": {
    "scrolled": true
   },
   "outputs": [],
   "source": [
    "# Compile\n",
    "model2.compile(\n",
    "    loss=\"categorical_crossentropy\",\n",
    "    optimizer=opt,\n",
    "    metrics=[\"accuracy\"]\n",
    ")\n",
    "\n",
    "history2 = model2.fit(\n",
    "    X_train,\n",
    "    y_train,\n",
    "    batch_size=32,\n",
    "    epochs=20,\n",
    "    validation_data=(X_val, y_val),\n",
    ")"
   ]
  },
  {
   "cell_type": "code",
   "execution_count": null,
   "id": "9807b18b",
   "metadata": {},
   "outputs": [],
   "source": [
    "# Esta red no funciona bien, se descarta"
   ]
  },
  {
   "cell_type": "code",
   "execution_count": 12,
   "id": "21479c5b",
   "metadata": {
    "scrolled": false
   },
   "outputs": [
    {
     "name": "stdout",
     "output_type": "stream",
     "text": [
      "Model: \"model\"\n",
      "__________________________________________________________________________________________________\n",
      " Layer (type)                   Output Shape         Param #     Connected to                     \n",
      "==================================================================================================\n",
      " input (InputLayer)             [(None, 128, 1)]     0           []                               \n",
      "                                                                                                  \n",
      " conv1d_1 (Conv1D)              (None, 128, 16)      64          ['input[0][0]']                  \n",
      "                                                                                                  \n",
      " activation (Activation)        (None, 128, 16)      0           ['conv1d_1[0][0]']               \n",
      "                                                                                                  \n",
      " conv1d_2 (Conv1D)              (None, 128, 16)      784         ['activation[0][0]']             \n",
      "                                                                                                  \n",
      " conv1d (Conv1D)                (None, 128, 16)      32          ['input[0][0]']                  \n",
      "                                                                                                  \n",
      " add (Add)                      (None, 128, 16)      0           ['conv1d_2[0][0]',               \n",
      "                                                                  'conv1d[0][0]']                 \n",
      "                                                                                                  \n",
      " activation_1 (Activation)      (None, 128, 16)      0           ['add[0][0]']                    \n",
      "                                                                                                  \n",
      " max_pooling1d (MaxPooling1D)   (None, 64, 16)       0           ['activation_1[0][0]']           \n",
      "                                                                                                  \n",
      " conv1d_4 (Conv1D)              (None, 64, 32)       1568        ['max_pooling1d[0][0]']          \n",
      "                                                                                                  \n",
      " activation_2 (Activation)      (None, 64, 32)       0           ['conv1d_4[0][0]']               \n",
      "                                                                                                  \n",
      " conv1d_5 (Conv1D)              (None, 64, 32)       3104        ['activation_2[0][0]']           \n",
      "                                                                                                  \n",
      " conv1d_3 (Conv1D)              (None, 64, 32)       544         ['max_pooling1d[0][0]']          \n",
      "                                                                                                  \n",
      " add_1 (Add)                    (None, 64, 32)       0           ['conv1d_5[0][0]',               \n",
      "                                                                  'conv1d_3[0][0]']               \n",
      "                                                                                                  \n",
      " activation_3 (Activation)      (None, 64, 32)       0           ['add_1[0][0]']                  \n",
      "                                                                                                  \n",
      " max_pooling1d_1 (MaxPooling1D)  (None, 32, 32)      0           ['activation_3[0][0]']           \n",
      "                                                                                                  \n",
      " conv1d_7 (Conv1D)              (None, 32, 64)       6208        ['max_pooling1d_1[0][0]']        \n",
      "                                                                                                  \n",
      " activation_4 (Activation)      (None, 32, 64)       0           ['conv1d_7[0][0]']               \n",
      "                                                                                                  \n",
      " conv1d_8 (Conv1D)              (None, 32, 64)       12352       ['activation_4[0][0]']           \n",
      "                                                                                                  \n",
      " activation_5 (Activation)      (None, 32, 64)       0           ['conv1d_8[0][0]']               \n",
      "                                                                                                  \n",
      " conv1d_9 (Conv1D)              (None, 32, 64)       12352       ['activation_5[0][0]']           \n",
      "                                                                                                  \n",
      " conv1d_6 (Conv1D)              (None, 32, 64)       2112        ['max_pooling1d_1[0][0]']        \n",
      "                                                                                                  \n",
      " add_2 (Add)                    (None, 32, 64)       0           ['conv1d_9[0][0]',               \n",
      "                                                                  'conv1d_6[0][0]']               \n",
      "                                                                                                  \n",
      " activation_6 (Activation)      (None, 32, 64)       0           ['add_2[0][0]']                  \n",
      "                                                                                                  \n",
      " max_pooling1d_2 (MaxPooling1D)  (None, 16, 64)      0           ['activation_6[0][0]']           \n",
      "                                                                                                  \n",
      " conv1d_11 (Conv1D)             (None, 16, 128)      24704       ['max_pooling1d_2[0][0]']        \n",
      "                                                                                                  \n",
      " activation_7 (Activation)      (None, 16, 128)      0           ['conv1d_11[0][0]']              \n",
      "                                                                                                  \n",
      " conv1d_12 (Conv1D)             (None, 16, 128)      49280       ['activation_7[0][0]']           \n",
      "                                                                                                  \n",
      " activation_8 (Activation)      (None, 16, 128)      0           ['conv1d_12[0][0]']              \n",
      "                                                                                                  \n",
      " conv1d_13 (Conv1D)             (None, 16, 128)      49280       ['activation_8[0][0]']           \n",
      "                                                                                                  \n",
      " conv1d_10 (Conv1D)             (None, 16, 128)      8320        ['max_pooling1d_2[0][0]']        \n",
      "                                                                                                  \n",
      " add_3 (Add)                    (None, 16, 128)      0           ['conv1d_13[0][0]',              \n",
      "                                                                  'conv1d_10[0][0]']              \n",
      "                                                                                                  \n",
      " activation_9 (Activation)      (None, 16, 128)      0           ['add_3[0][0]']                  \n",
      "                                                                                                  \n",
      " max_pooling1d_3 (MaxPooling1D)  (None, 8, 128)      0           ['activation_9[0][0]']           \n",
      "                                                                                                  \n",
      " conv1d_15 (Conv1D)             (None, 8, 128)       49280       ['max_pooling1d_3[0][0]']        \n",
      "                                                                                                  \n",
      " activation_10 (Activation)     (None, 8, 128)       0           ['conv1d_15[0][0]']              \n",
      "                                                                                                  \n",
      " conv1d_16 (Conv1D)             (None, 8, 128)       49280       ['activation_10[0][0]']          \n",
      "                                                                                                  \n",
      " activation_11 (Activation)     (None, 8, 128)       0           ['conv1d_16[0][0]']              \n",
      "                                                                                                  \n",
      " conv1d_17 (Conv1D)             (None, 8, 128)       49280       ['activation_11[0][0]']          \n",
      "                                                                                                  \n"
     ]
    },
    {
     "name": "stdout",
     "output_type": "stream",
     "text": [
      " conv1d_14 (Conv1D)             (None, 8, 128)       16512       ['max_pooling1d_3[0][0]']        \n",
      "                                                                                                  \n",
      " add_4 (Add)                    (None, 8, 128)       0           ['conv1d_17[0][0]',              \n",
      "                                                                  'conv1d_14[0][0]']              \n",
      "                                                                                                  \n",
      " activation_12 (Activation)     (None, 8, 128)       0           ['add_4[0][0]']                  \n",
      "                                                                                                  \n",
      " max_pooling1d_4 (MaxPooling1D)  (None, 4, 128)      0           ['activation_12[0][0]']          \n",
      "                                                                                                  \n",
      " average_pooling1d (AveragePool  (None, 1, 128)      0           ['max_pooling1d_4[0][0]']        \n",
      " ing1D)                                                                                           \n",
      "                                                                                                  \n",
      " flatten (Flatten)              (None, 128)          0           ['average_pooling1d[0][0]']      \n",
      "                                                                                                  \n",
      " dense (Dense)                  (None, 256)          33024       ['flatten[0][0]']                \n",
      "                                                                                                  \n",
      " dense_1 (Dense)                (None, 128)          32896       ['dense[0][0]']                  \n",
      "                                                                                                  \n",
      " output (Dense)                 (None, 10)           1290        ['dense_1[0][0]']                \n",
      "                                                                                                  \n",
      "==================================================================================================\n",
      "Total params: 402,266\n",
      "Trainable params: 402,266\n",
      "Non-trainable params: 0\n",
      "__________________________________________________________________________________________________\n"
     ]
    }
   ],
   "source": [
    "import keras\n",
    "\n",
    "def residual_block(x, filters, conv_num=3, activation=\"relu\"):\n",
    "    # Shortcut\n",
    "    s = keras.layers.Conv1D(filters, 1, padding=\"same\")(x)\n",
    "    for i in range(conv_num - 1):\n",
    "        x = keras.layers.Conv1D(filters, 3, padding=\"same\")(x)\n",
    "        x = keras.layers.Activation(activation)(x)\n",
    "    x = keras.layers.Conv1D(filters, 3, padding=\"same\")(x)\n",
    "    x = keras.layers.Add()([x, s])\n",
    "    x = keras.layers.Activation(activation)(x)\n",
    "    return keras.layers.MaxPool1D(pool_size=2, strides=2)(x)\n",
    "\n",
    "\n",
    "def build_model(input_shape, num_classes):\n",
    "    inputs = keras.layers.Input(shape=input_shape, name=\"input\")\n",
    "\n",
    "    x = residual_block(inputs, 16, 2)\n",
    "    x = residual_block(x, 32, 2)\n",
    "    x = residual_block(x, 64, 3)\n",
    "    x = residual_block(x, 128, 3)\n",
    "    x = residual_block(x, 128, 3)\n",
    "\n",
    "    x = keras.layers.AveragePooling1D(pool_size=3, strides=3)(x)\n",
    "    x = keras.layers.Flatten()(x)\n",
    "    x = keras.layers.Dense(256, activation=\"relu\")(x)\n",
    "    x = keras.layers.Dense(128, activation=\"relu\")(x)\n",
    "\n",
    "    outputs = keras.layers.Dense(num_classes, activation=\"softmax\", name=\"output\")(x)\n",
    "\n",
    "    return keras.models.Model(inputs=inputs, outputs=outputs)\n",
    "\n",
    "\n",
    "model2 = build_model(X_train[0].shape, len(selected_classes_indexes))\n",
    "\n",
    "model2.summary()"
   ]
  },
  {
   "cell_type": "code",
   "execution_count": 13,
   "id": "ea2f5ec4",
   "metadata": {
    "scrolled": true
   },
   "outputs": [
    {
     "name": "stdout",
     "output_type": "stream",
     "text": [
      "Epoch 1/20\n",
      "62/62 [==============================] - 5s 46ms/step - loss: 2.1037 - accuracy: 0.2270 - val_loss: 2.2201 - val_accuracy: 0.2029\n",
      "Epoch 2/20\n",
      "62/62 [==============================] - 1s 20ms/step - loss: 2.0737 - accuracy: 0.2376 - val_loss: 2.2034 - val_accuracy: 0.2029\n",
      "Epoch 3/20\n",
      "62/62 [==============================] - 1s 21ms/step - loss: 2.0689 - accuracy: 0.2417 - val_loss: 2.2004 - val_accuracy: 0.2029\n",
      "Epoch 4/20\n",
      "62/62 [==============================] - 1s 24ms/step - loss: 2.0465 - accuracy: 0.2781 - val_loss: 2.1701 - val_accuracy: 0.2682\n",
      "Epoch 5/20\n",
      "62/62 [==============================] - 1s 21ms/step - loss: 1.8736 - accuracy: 0.3504 - val_loss: 1.9302 - val_accuracy: 0.3050\n",
      "Epoch 6/20\n",
      "62/62 [==============================] - 1s 21ms/step - loss: 1.6999 - accuracy: 0.3883 - val_loss: 1.8920 - val_accuracy: 0.2996\n",
      "Epoch 7/20\n",
      "62/62 [==============================] - 1s 23ms/step - loss: 1.6256 - accuracy: 0.3898 - val_loss: 1.7921 - val_accuracy: 0.3175\n",
      "Epoch 8/20\n",
      "62/62 [==============================] - 1s 23ms/step - loss: 1.5562 - accuracy: 0.3994 - val_loss: 1.9032 - val_accuracy: 0.3090\n",
      "Epoch 9/20\n",
      "62/62 [==============================] - 1s 22ms/step - loss: 1.5236 - accuracy: 0.4237 - val_loss: 1.8343 - val_accuracy: 0.3260\n",
      "Epoch 10/20\n",
      "62/62 [==============================] - 1s 22ms/step - loss: 1.4276 - accuracy: 0.4636 - val_loss: 1.7034 - val_accuracy: 0.4178\n",
      "Epoch 11/20\n",
      "62/62 [==============================] - 1s 21ms/step - loss: 1.3350 - accuracy: 0.5162 - val_loss: 1.6688 - val_accuracy: 0.4084\n",
      "Epoch 12/20\n",
      "62/62 [==============================] - 2s 26ms/step - loss: 1.2518 - accuracy: 0.5460 - val_loss: 1.8477 - val_accuracy: 0.4272\n",
      "Epoch 13/20\n",
      "62/62 [==============================] - 1s 22ms/step - loss: 1.1709 - accuracy: 0.5804 - val_loss: 1.9620 - val_accuracy: 0.4201\n",
      "Epoch 14/20\n",
      "62/62 [==============================] - 1s 22ms/step - loss: 1.1433 - accuracy: 0.6031 - val_loss: 1.6570 - val_accuracy: 0.4519\n",
      "Epoch 15/20\n",
      "62/62 [==============================] - 1s 22ms/step - loss: 1.0890 - accuracy: 0.6127 - val_loss: 1.8005 - val_accuracy: 0.4129\n",
      "Epoch 16/20\n",
      "62/62 [==============================] - 1s 21ms/step - loss: 1.0141 - accuracy: 0.6405 - val_loss: 1.7924 - val_accuracy: 0.4662\n",
      "Epoch 17/20\n",
      "62/62 [==============================] - 1s 23ms/step - loss: 0.9572 - accuracy: 0.6481 - val_loss: 1.7465 - val_accuracy: 0.4684\n",
      "Epoch 18/20\n",
      "62/62 [==============================] - 2s 25ms/step - loss: 0.9396 - accuracy: 0.6618 - val_loss: 1.7027 - val_accuracy: 0.4787\n",
      "Epoch 19/20\n",
      "62/62 [==============================] - 2s 26ms/step - loss: 0.8714 - accuracy: 0.6921 - val_loss: 1.7606 - val_accuracy: 0.4814\n",
      "Epoch 20/20\n",
      "62/62 [==============================] - 1s 23ms/step - loss: 0.8310 - accuracy: 0.7012 - val_loss: 1.7486 - val_accuracy: 0.4805\n"
     ]
    }
   ],
   "source": [
    "# Compile\n",
    "model2.compile(\n",
    "    loss=\"categorical_crossentropy\",\n",
    "    optimizer=opt,\n",
    "    metrics=[\"accuracy\"]\n",
    ")\n",
    "\n",
    "history2 = model2.fit(\n",
    "    X_train,\n",
    "    y_train,\n",
    "    batch_size=32,\n",
    "    epochs=20,\n",
    "    validation_data=(X_val, y_val),\n",
    ")"
   ]
  },
  {
   "cell_type": "code",
   "execution_count": null,
   "id": "85eaecb0",
   "metadata": {
    "scrolled": true
   },
   "outputs": [],
   "source": [
    "from matplotlib import pyplot as plt\n",
    "\n",
    "plt.plot(history2.history['accuracy'])\n",
    "plt.plot(history2.history['val_accuracy'])\n",
    "plt.title('model accuracy')\n",
    "plt.ylabel('accuracy')\n",
    "plt.xlabel('epoch')\n",
    "plt.legend(['train', 'val'], loc='upper left')\n",
    "plt.show()"
   ]
  },
  {
   "cell_type": "code",
   "execution_count": null,
   "id": "0a57b280",
   "metadata": {
    "scrolled": true
   },
   "outputs": [],
   "source": [
    "keras.backend.clear_session()\n",
    "\n",
    "\n",
    "def build_and_compile_model():\n",
    "    inputs = keras.layers.Input(X_train[0].shape, name=\"embedding\")\n",
    "\n",
    "    x = keras.layers.Dense(256, activation=\"relu\", name=\"dense_1\")(inputs)\n",
    "    x = keras.layers.Dropout(0.15, name=\"dropout_1\")(x)\n",
    "\n",
    "    x = keras.layers.Dense(384, activation=\"relu\", name=\"dense_2\")(x)\n",
    "    x = keras.layers.Dropout(0.2, name=\"dropout_2\")(x)\n",
    "\n",
    "    x = keras.layers.Dense(192, activation=\"relu\", name=\"dense_3\")(x)\n",
    "    x = keras.layers.Dropout(0.25, name=\"dropout_3\")(x)\n",
    "\n",
    "    x = keras.layers.Dense(384, activation=\"relu\", name=\"dense_4\")(x)\n",
    "    x = keras.layers.Dropout(0.2, name=\"dropout_4\")(x)\n",
    "    x = keras.layers.Flatten()(x)\n",
    "\n",
    "    outputs = keras.layers.Dense(len(selected_classes_indexes), activation=\"softmax\", name=\"ouput\")(x)\n",
    "\n",
    "    model = keras.Model(inputs=inputs, outputs=outputs, name=\"sound_recognition\")\n",
    "\n",
    "    model.compile(\n",
    "        optimizer=Adam(learning_rate=1.9644e-5),\n",
    "        loss=keras.losses.CategoricalCrossentropy(),\n",
    "        metrics=[\"accuracy\", keras.metrics.AUC(name=\"auc\")],\n",
    "    )\n",
    "\n",
    "    return model\n",
    "\n",
    "\n",
    "model3 = build_and_compile_model()\n",
    "model3.summary()"
   ]
  },
  {
   "cell_type": "code",
   "execution_count": null,
   "id": "d2cfcb80",
   "metadata": {
    "scrolled": false
   },
   "outputs": [],
   "source": [
    "history3 = model3.fit(\n",
    "    X_train,\n",
    "    y_train,\n",
    "    batch_size=32,\n",
    "    epochs=20,\n",
    "    validation_data=(X_val, y_val),\n",
    ")"
   ]
  },
  {
   "cell_type": "code",
   "execution_count": null,
   "id": "30840879",
   "metadata": {},
   "outputs": [],
   "source": [
    "model3.save(\"Keras_audio.h5\")"
   ]
  },
  {
   "cell_type": "code",
   "execution_count": null,
   "id": "cae63891",
   "metadata": {
    "scrolled": true
   },
   "outputs": [],
   "source": [
    "plt.plot(history3.history['accuracy'])\n",
    "plt.plot(history3.history['val_accuracy'])\n",
    "plt.title('model accuracy')\n",
    "plt.ylabel('accuracy')\n",
    "plt.xlabel('epoch')\n",
    "plt.legend(['train', 'val'], loc='upper left')\n",
    "plt.show()"
   ]
  },
  {
   "cell_type": "code",
   "execution_count": null,
   "id": "9ffdf6e1",
   "metadata": {
    "scrolled": false
   },
   "outputs": [],
   "source": [
    "x = X_val[9]\n",
    "print(x.shape, x)\n",
    "\n",
    "new_model = tf.keras.models.load_model(\"Keras_audio.h5\")\n",
    "new_model.predict(x)"
   ]
  },
  {
   "cell_type": "code",
   "execution_count": null,
   "id": "a8612b7c",
   "metadata": {},
   "outputs": [],
   "source": [
    "from keras.models import load_model\n",
    "\n",
    "model5 = load_model('Keras_audio.h5')"
   ]
  },
  {
   "cell_type": "code",
   "execution_count": null,
   "id": "82dc9fa5",
   "metadata": {},
   "outputs": [],
   "source": [
    "t = tf.constant(X_train[9])"
   ]
  },
  {
   "cell_type": "code",
   "execution_count": null,
   "id": "bd468ced",
   "metadata": {},
   "outputs": [],
   "source": [
    "X_train[0].shape"
   ]
  },
  {
   "cell_type": "code",
   "execution_count": null,
   "id": "96601b2f",
   "metadata": {},
   "outputs": [],
   "source": [
    "model5.predict(t)"
   ]
  }
 ],
 "metadata": {
  "kernelspec": {
   "display_name": "Python 3 (ipykernel)",
   "language": "python",
   "name": "python3"
  },
  "language_info": {
   "codemirror_mode": {
    "name": "ipython",
    "version": 3
   },
   "file_extension": ".py",
   "mimetype": "text/x-python",
   "name": "python",
   "nbconvert_exporter": "python",
   "pygments_lexer": "ipython3",
   "version": "3.10.4"
  }
 },
 "nbformat": 4,
 "nbformat_minor": 5
}
