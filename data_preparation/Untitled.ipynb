{
 "cells": [
  {
   "cell_type": "code",
   "execution_count": 7,
   "id": "ed99dac6",
   "metadata": {},
   "outputs": [],
   "source": [
    "from pathlib import Path\n",
    "import pickle\n",
    "\n",
    "feat_dir = \"./features/\"\n",
    "models_dir = \"./models/\"\n",
    "\n",
    "load_file = f\"{feat_dir}X_train.pkl\"\n",
    "with open(load_file, \"rb\") as load_file:\n",
    "    X_train = pickle.load(load_file)\n",
    "    \n",
    "load_file = f\"{feat_dir}y_train.pkl\"\n",
    "with open(load_file, \"rb\") as load_file:\n",
    "    y_train = pickle.load(load_file)\n",
    "    \n",
    "load_file = f\"{feat_dir}X_val.pkl\"\n",
    "with open(load_file, \"rb\") as load_file:\n",
    "    X_val = pickle.load(load_file)\n",
    "    \n",
    "load_file = f\"{feat_dir}y_val.pkl\"\n",
    "with open(load_file, \"rb\") as load_file:\n",
    "    y_val = pickle.load(load_file)\n",
    "    \n",
    "load_file = f\"{feat_dir}X_unbal.pkl\"\n",
    "with open(load_file, \"rb\") as load_file:\n",
    "    X_unbal = pickle.load(load_file)\n",
    "    \n",
    "load_file = f\"{feat_dir}y_unbal.pkl\"\n",
    "with open(load_file, \"rb\") as load_file:\n",
    "    y_unbal = pickle.load(load_file)"
   ]
  },
  {
   "cell_type": "code",
   "execution_count": 8,
   "id": "1788cac0",
   "metadata": {},
   "outputs": [],
   "source": [
    "load_file = f\"{feat_dir}multiLabelBinarizer.pkl\"\n",
    "with open(load_file, \"rb\") as load_file:\n",
    "    mlb = pickle.load(load_file)\n",
    "    \n",
    "#Load classes names\n",
    "with open(f\"{feat_dir}classes_dict.pkl\", \"rb\") as classes_file:\n",
    "    classes_dict = pickle.load(classes_file)"
   ]
  },
  {
   "cell_type": "code",
   "execution_count": 9,
   "id": "405c8281",
   "metadata": {},
   "outputs": [],
   "source": [
    "import numpy as np\n",
    "\n",
    "X = np.concatenate((X_train, X_unbal))\n",
    "y = np.concatenate((y_train, y_unbal))"
   ]
  },
  {
   "cell_type": "code",
   "execution_count": 12,
   "id": "a29f29df",
   "metadata": {},
   "outputs": [
    {
     "data": {
      "text/plain": [
       "(10, 128)"
      ]
     },
     "execution_count": 12,
     "metadata": {},
     "output_type": "execute_result"
    }
   ],
   "source": [
    "X[0].shape"
   ]
  },
  {
   "cell_type": "code",
   "execution_count": 13,
   "id": "29130677",
   "metadata": {},
   "outputs": [
    {
     "name": "stdout",
     "output_type": "stream",
     "text": [
      "Model: \"qiuqiangkong\"\n",
      "__________________________________________________________________________________________________\n",
      " Layer (type)                   Output Shape         Param #     Connected to                     \n",
      "==================================================================================================\n",
      " input_3 (InputLayer)           [(None, 10, 128)]    0           []                               \n",
      "                                                                                                  \n",
      " dense_12 (Dense)               (None, 10, 1024)     132096      ['input_3[0][0]']                \n",
      "                                                                                                  \n",
      " batch_normalization_8 (BatchNo  (None, 10, 1024)    4096        ['dense_12[0][0]']               \n",
      " rmalization)                                                                                     \n",
      "                                                                                                  \n",
      " activation_8 (Activation)      (None, 10, 1024)     0           ['batch_normalization_8[0][0]']  \n",
      "                                                                                                  \n",
      " dropout_8 (Dropout)            (None, 10, 1024)     0           ['activation_8[0][0]']           \n",
      "                                                                                                  \n",
      " dense_13 (Dense)               (None, 10, 1024)     1049600     ['dropout_8[0][0]']              \n",
      "                                                                                                  \n",
      " batch_normalization_9 (BatchNo  (None, 10, 1024)    4096        ['dense_13[0][0]']               \n",
      " rmalization)                                                                                     \n",
      "                                                                                                  \n",
      " activation_9 (Activation)      (None, 10, 1024)     0           ['batch_normalization_9[0][0]']  \n",
      "                                                                                                  \n",
      " dropout_9 (Dropout)            (None, 10, 1024)     0           ['activation_9[0][0]']           \n",
      "                                                                                                  \n",
      " dense_14 (Dense)               (None, 10, 1024)     1049600     ['dropout_9[0][0]']              \n",
      "                                                                                                  \n",
      " batch_normalization_10 (BatchN  (None, 10, 1024)    4096        ['dense_14[0][0]']               \n",
      " ormalization)                                                                                    \n",
      "                                                                                                  \n",
      " activation_10 (Activation)     (None, 10, 1024)     0           ['batch_normalization_10[0][0]'] \n",
      "                                                                                                  \n",
      " dropout_10 (Dropout)           (None, 10, 1024)     0           ['activation_10[0][0]']          \n",
      "                                                                                                  \n",
      " dense_15 (Dense)               (None, 10, 1024)     1049600     ['dropout_10[0][0]']             \n",
      "                                                                                                  \n",
      " dense_16 (Dense)               (None, 10, 1024)     1049600     ['dropout_10[0][0]']             \n",
      "                                                                                                  \n",
      " lambda_2 (Lambda)              (None, 1024)         0           ['dense_15[0][0]',               \n",
      "                                                                  'dense_16[0][0]']               \n",
      "                                                                                                  \n",
      " batch_normalization_11 (BatchN  (None, 1024)        4096        ['lambda_2[0][0]']               \n",
      " ormalization)                                                                                    \n",
      "                                                                                                  \n",
      " activation_11 (Activation)     (None, 1024)         0           ['batch_normalization_11[0][0]'] \n",
      "                                                                                                  \n",
      " dropout_11 (Dropout)           (None, 1024)         0           ['activation_11[0][0]']          \n",
      "                                                                                                  \n",
      " dense_17 (Dense)               (None, 10)           10250       ['dropout_11[0][0]']             \n",
      "                                                                                                  \n",
      "==================================================================================================\n",
      "Total params: 4,357,130\n",
      "Trainable params: 4,348,938\n",
      "Non-trainable params: 8,192\n",
      "__________________________________________________________________________________________________\n"
     ]
    }
   ],
   "source": [
    "import keras\n",
    "from sklearn.metrics import roc_auc_score\n",
    "from tensorflow.keras.layers import Conv1D, MaxPooling1D, Flatten, Dense, Dropout, Input, BatchNormalization, Activation, Lambda\n",
    "import keras.backend as K\n",
    "import tensorflow as tf\n",
    "\n",
    "def auroc(y_true, y_pred):\n",
    "    return tf.numpy_function(roc_auc_score, (y_true, y_pred), tf.double)\n",
    "\n",
    "def attention_pooling(inputs, **kwargs):\n",
    "    [out, att] = inputs\n",
    "\n",
    "    epsilon = 1e-7\n",
    "    att = K.clip(att, epsilon, 1. - epsilon)\n",
    "    normalized_att = att / K.sum(att, axis=1)[:, None, :]\n",
    "\n",
    "    return K.sum(out * normalized_att, axis=1)\n",
    "\n",
    "def pooling_shape(input_shape):\n",
    "\n",
    "    if isinstance(input_shape, list):\n",
    "        (sample_num, time_steps, freq_bins) = input_shape[0]\n",
    "\n",
    "    else:\n",
    "        (sample_num, time_steps, freq_bins) = input_shape\n",
    "\n",
    "    return (sample_num, freq_bins)\n",
    "\n",
    "time_steps = 10\n",
    "freq_bins = 128\n",
    "classes_num = 10\n",
    "\n",
    "# Hyper parameters\n",
    "hidden_units = 1024\n",
    "drop_rate = 0.5\n",
    "batch_size = 500\n",
    "\n",
    "# Embedded layers\n",
    "input_layer = Input(shape=X[0].shape)\n",
    "\n",
    "a1 = Dense(hidden_units)(input_layer)\n",
    "a1 = BatchNormalization()(a1)\n",
    "a1 = Activation('relu')(a1)\n",
    "a1 = Dropout(drop_rate)(a1)\n",
    "\n",
    "a2 = Dense(hidden_units)(a1)\n",
    "a2 = BatchNormalization()(a2)\n",
    "a2 = Activation('relu')(a2)\n",
    "a2 = Dropout(drop_rate)(a2)\n",
    "\n",
    "a3 = Dense(hidden_units)(a2)\n",
    "a3 = BatchNormalization()(a3)\n",
    "a3 = Activation('relu')(a3)\n",
    "a3 = Dropout(drop_rate)(a3)\n",
    "cla = Dense(hidden_units, activation='linear')(a3)\n",
    "att = Dense(hidden_units, activation='sigmoid')(a3)\n",
    "\n",
    "b1 = Lambda(attention_pooling, output_shape=pooling_shape)([cla, att])\n",
    "b1 = BatchNormalization()(b1)\n",
    "b1 = Activation(activation='relu')(b1)\n",
    "b1 = Dropout(drop_rate)(b1)\n",
    "\n",
    "output_layer = Dense(classes_num, activation='sigmoid')(b1)\n",
    "\n",
    "model5 = keras.Model(inputs=input_layer, outputs=output_layer, name=\"qiuqiangkong\")\n",
    "# model5.compile(loss='binary_crossentropy', optimizer=\"Adam\", metrics=[\"accuracy\", auroc])\n",
    "model5.compile(loss='binary_crossentropy', optimizer=\"Adam\", metrics=[\"accuracy\"])\n",
    "model5.summary()"
   ]
  },
  {
   "cell_type": "code",
   "execution_count": 15,
   "id": "5ee9ac88",
   "metadata": {},
   "outputs": [
    {
     "data": {
      "text/plain": [
       "<tensorflow.python.training.tracking.util.CheckpointLoadStatus at 0x2243b5042e0>"
      ]
     },
     "execution_count": 15,
     "metadata": {},
     "output_type": "execute_result"
    }
   ],
   "source": [
    "import tensorflow as tf\n",
    "\n",
    "model5.load_weights(f\"{models_dir}qiuqiangkong_b64_weights.tf\")"
   ]
  },
  {
   "cell_type": "code",
   "execution_count": null,
   "id": "fd6f9d44",
   "metadata": {},
   "outputs": [],
   "source": []
  }
 ],
 "metadata": {
  "kernelspec": {
   "display_name": "Python 3 (ipykernel)",
   "language": "python",
   "name": "python3"
  },
  "language_info": {
   "codemirror_mode": {
    "name": "ipython",
    "version": 3
   },
   "file_extension": ".py",
   "mimetype": "text/x-python",
   "name": "python",
   "nbconvert_exporter": "python",
   "pygments_lexer": "ipython3",
   "version": "3.10.4"
  }
 },
 "nbformat": 4,
 "nbformat_minor": 5
}
